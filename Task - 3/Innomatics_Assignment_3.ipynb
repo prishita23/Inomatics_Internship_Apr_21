{
  "nbformat": 4,
  "nbformat_minor": 0,
  "metadata": {
    "colab": {
      "name": "Innomatics Assignment 3.ipynb",
      "provenance": []
    },
    "kernelspec": {
      "name": "python3",
      "display_name": "Python 3"
    },
    "language_info": {
      "name": "python"
    }
  },
  "cells": [
    {
      "cell_type": "markdown",
      "metadata": {
        "id": "tCCozQ7TXxyw"
      },
      "source": [
        "# Problem 1\n",
        "Polar Coordinates"
      ]
    },
    {
      "cell_type": "code",
      "metadata": {
        "colab": {
          "base_uri": "https://localhost:8080/"
        },
        "id": "0fiQoay5XtFo",
        "outputId": "29508dda-b6ba-4fa1-e2f2-f2a6b9db355b"
      },
      "source": [
        "import cmath\n",
        "comp = complex(input())\n",
        "print(abs(comp))\n",
        "print(cmath.phase(comp))"
      ],
      "execution_count": 1,
      "outputs": [
        {
          "output_type": "stream",
          "text": [
            "1+2j\n",
            "2.23606797749979\n",
            "1.1071487177940904\n"
          ],
          "name": "stdout"
        }
      ]
    },
    {
      "cell_type": "markdown",
      "metadata": {
        "id": "lKOURpQecI9_"
      },
      "source": [
        "# Problem 2\n",
        "Find Angle MBC"
      ]
    },
    {
      "cell_type": "code",
      "metadata": {
        "colab": {
          "base_uri": "https://localhost:8080/"
        },
        "id": "dzFJFskSbugc",
        "outputId": "6a33e807-f65b-476b-9e05-fd69d02dc4c6"
      },
      "source": [
        "import math\n",
        "\n",
        "AB = int(input())\n",
        "BC = int(input())\n",
        "\n",
        "degree_sign = u\"\\N{DEGREE SIGN}\"\n",
        "\n",
        "degree = round(math.degrees(math.atan(AB/BC)))\n",
        "\n",
        "print(str(degree) + degree_sign)"
      ],
      "execution_count": 2,
      "outputs": [
        {
          "output_type": "stream",
          "text": [
            "10\n",
            "10\n",
            "45°\n"
          ],
          "name": "stdout"
        }
      ]
    },
    {
      "cell_type": "markdown",
      "metadata": {
        "id": "Zs25Jrg4fMnP"
      },
      "source": [
        "# Problem 3\n",
        "Triangle Quest 2"
      ]
    },
    {
      "cell_type": "code",
      "metadata": {
        "colab": {
          "base_uri": "https://localhost:8080/"
        },
        "id": "GZYudyrmh170",
        "outputId": "c1b703b9-2f3e-450a-d7c9-6d3b681a3cd8"
      },
      "source": [
        "for i in range(1, int(input())+1):\n",
        "  print(((10**i)//9)**2)"
      ],
      "execution_count": 17,
      "outputs": [
        {
          "output_type": "stream",
          "text": [
            "5\n",
            "1\n",
            "121\n",
            "12321\n",
            "1234321\n",
            "123454321\n"
          ],
          "name": "stdout"
        }
      ]
    },
    {
      "cell_type": "markdown",
      "metadata": {
        "id": "IeM6jEDTlGqI"
      },
      "source": [
        "# Problem 4\n",
        "Mod Divmod"
      ]
    },
    {
      "cell_type": "code",
      "metadata": {
        "colab": {
          "base_uri": "https://localhost:8080/"
        },
        "id": "w7Gc4qYykxQa",
        "outputId": "d22d2492-16e8-4554-c510-37e33ccb0e62"
      },
      "source": [
        "a = int(input())\n",
        "b = int(input())\n",
        "\n",
        "print(a//b)\n",
        "print(a%b)\n",
        "print(divmod(a,b))"
      ],
      "execution_count": 18,
      "outputs": [
        {
          "output_type": "stream",
          "text": [
            "177\n",
            "10\n",
            "17\n",
            "7\n",
            "(17, 7)\n"
          ],
          "name": "stdout"
        }
      ]
    },
    {
      "cell_type": "markdown",
      "metadata": {
        "id": "KDFwfQkT0oMu"
      },
      "source": [
        "# Problem 5\n",
        "Power - Mod Power"
      ]
    },
    {
      "cell_type": "code",
      "metadata": {
        "colab": {
          "base_uri": "https://localhost:8080/"
        },
        "id": "JJw1DsnL0Y7W",
        "outputId": "c3d2587c-e0b9-496e-befc-92e03a3467ba"
      },
      "source": [
        "a = int(input())\n",
        "b = int(input())\n",
        "m= int(input())\n",
        "\n",
        "print(pow(a,b))\n",
        "print(pow(a,b,m))"
      ],
      "execution_count": 19,
      "outputs": [
        {
          "output_type": "stream",
          "text": [
            "3\n",
            "4\n",
            "5\n",
            "81\n",
            "1\n"
          ],
          "name": "stdout"
        }
      ]
    },
    {
      "cell_type": "markdown",
      "metadata": {
        "id": "UM_3JEId3Qg5"
      },
      "source": [
        "# Problem 6\n",
        "Integers come in all sizes"
      ]
    },
    {
      "cell_type": "code",
      "metadata": {
        "colab": {
          "base_uri": "https://localhost:8080/"
        },
        "id": "rz60eJpU2yIT",
        "outputId": "bf2077a1-3a6b-4a36-c128-cbd4a288fc60"
      },
      "source": [
        "a = int(input())\n",
        "b = int(input())\n",
        "c = int(input())\n",
        "d = int(input())\n",
        "\n",
        "print(str(a**b + c**d))"
      ],
      "execution_count": 20,
      "outputs": [
        {
          "output_type": "stream",
          "text": [
            "9\n",
            "29\n",
            "7\n",
            "27\n",
            "4710194409608608369201743232\n"
          ],
          "name": "stdout"
        }
      ]
    },
    {
      "cell_type": "markdown",
      "metadata": {
        "id": "IKcC5r5r4BhM"
      },
      "source": [
        "# Problem 7\n",
        "Triangle Quest"
      ]
    },
    {
      "cell_type": "code",
      "metadata": {
        "colab": {
          "base_uri": "https://localhost:8080/"
        },
        "id": "kWTKOAco34st",
        "outputId": "41bdd3f0-fe9c-47ac-e7f2-e7c9bfad94f1"
      },
      "source": [
        "for i in range(1,int(input())): \n",
        "    print(((10**i)//9)*i)"
      ],
      "execution_count": 21,
      "outputs": [
        {
          "output_type": "stream",
          "text": [
            "5\n",
            "1\n",
            "22\n",
            "333\n",
            "4444\n"
          ],
          "name": "stdout"
        }
      ]
    }
  ]
}