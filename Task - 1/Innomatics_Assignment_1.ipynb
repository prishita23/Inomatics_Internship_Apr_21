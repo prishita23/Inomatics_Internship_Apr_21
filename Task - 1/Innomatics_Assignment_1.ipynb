{
  "nbformat": 4,
  "nbformat_minor": 0,
  "metadata": {
    "colab": {
      "name": "Innomatics Assignment 1.ipynb",
      "provenance": []
    },
    "kernelspec": {
      "name": "python3",
      "display_name": "Python 3"
    },
    "language_info": {
      "name": "python"
    }
  },
  "cells": [
    {
      "cell_type": "markdown",
      "metadata": {
        "id": "3Tj2ZlVPRGM2"
      },
      "source": [
        "# Problem 1\n",
        "Say \"Hello, World!\" with Python"
      ]
    },
    {
      "cell_type": "code",
      "metadata": {
        "colab": {
          "base_uri": "https://localhost:8080/"
        },
        "id": "_XqEzvoRQ_Ns",
        "outputId": "a6432b17-6342-42cb-ca44-ed43921d998b"
      },
      "source": [
        "if __name__ == '__main__':\n",
        "    print (\"Hello, World!\")"
      ],
      "execution_count": 1,
      "outputs": [
        {
          "output_type": "stream",
          "text": [
            "Hello, World!\n"
          ],
          "name": "stdout"
        }
      ]
    },
    {
      "cell_type": "markdown",
      "metadata": {
        "id": "Dvm9yCkjRPbo"
      },
      "source": [
        "# Problem 2\n",
        "Python If-else"
      ]
    },
    {
      "cell_type": "code",
      "metadata": {
        "colab": {
          "base_uri": "https://localhost:8080/"
        },
        "id": "HAEigCszRZsm",
        "outputId": "48ac83c4-7d34-4c69-a8cd-11a9caf19572"
      },
      "source": [
        "if __name__ == '__main__':\n",
        "    n = int(input().strip())\n",
        "    if n%2 == 0:\n",
        "        if n<=5 and n>=2:\n",
        "            print('Not Weird')\n",
        "        elif n>5 and n<=20:\n",
        "            print('Weird')\n",
        "        elif n>20:\n",
        "            print('Not Weird')\n",
        "    else:\n",
        "        print('Weird')\n"
      ],
      "execution_count": 4,
      "outputs": [
        {
          "output_type": "stream",
          "text": [
            "21\n",
            "Weird\n"
          ],
          "name": "stdout"
        }
      ]
    },
    {
      "cell_type": "markdown",
      "metadata": {
        "id": "y93lMXv8RxAj"
      },
      "source": [
        "# Problem 3\n",
        "Arithmetic Operators"
      ]
    },
    {
      "cell_type": "code",
      "metadata": {
        "colab": {
          "base_uri": "https://localhost:8080/"
        },
        "id": "h6RDAPhoRn5l",
        "outputId": "2f93d213-9eab-45af-914f-d1e99fb78d54"
      },
      "source": [
        "if __name__ == '__main__':\n",
        "    a = int(input())\n",
        "    b = int(input())\n",
        "    print(a+b)\n",
        "    print(a-b)\n",
        "    print(a*b)\n"
      ],
      "execution_count": 5,
      "outputs": [
        {
          "output_type": "stream",
          "text": [
            "5\n",
            "4\n",
            "9\n",
            "1\n",
            "20\n"
          ],
          "name": "stdout"
        }
      ]
    },
    {
      "cell_type": "markdown",
      "metadata": {
        "id": "wSPAj0ObSJQV"
      },
      "source": [
        "# Problem 4\n",
        "Python division"
      ]
    },
    {
      "cell_type": "code",
      "metadata": {
        "colab": {
          "base_uri": "https://localhost:8080/"
        },
        "id": "guPvzcpqSCrr",
        "outputId": "49e1058a-6599-4f06-8967-bd311525b29f"
      },
      "source": [
        "if __name__ == '__main__':\n",
        "    a = int(input())\n",
        "    b = int(input())\n",
        "    print(a//b)\n",
        "    print(a/b)"
      ],
      "execution_count": 6,
      "outputs": [
        {
          "output_type": "stream",
          "text": [
            "5\n",
            "4\n",
            "1\n",
            "1.25\n"
          ],
          "name": "stdout"
        }
      ]
    },
    {
      "cell_type": "markdown",
      "metadata": {
        "id": "-L0YY-LrSSrP"
      },
      "source": [
        "# Problem 5\n",
        "Loops"
      ]
    },
    {
      "cell_type": "code",
      "metadata": {
        "colab": {
          "base_uri": "https://localhost:8080/"
        },
        "id": "SGfHzhgESOoX",
        "outputId": "51a0faef-71fb-4c5a-9365-ee7669c01d06"
      },
      "source": [
        "if __name__ == '__main__':\n",
        "    n = int(input())\n",
        "    for i in range(0, n):\n",
        "        print(i*i)"
      ],
      "execution_count": 7,
      "outputs": [
        {
          "output_type": "stream",
          "text": [
            "5\n",
            "0\n",
            "1\n",
            "4\n",
            "9\n",
            "16\n"
          ],
          "name": "stdout"
        }
      ]
    },
    {
      "cell_type": "markdown",
      "metadata": {
        "id": "JM0RRXC0ScIg"
      },
      "source": [
        "# Problem 6\n",
        "Write a Function"
      ]
    },
    {
      "cell_type": "code",
      "metadata": {
        "id": "BtvZL56TSZLq"
      },
      "source": [
        "def is_leap(year):\n",
        "    leap = False\n",
        "    \n",
        "    if year%4 == 0:\n",
        "        leap=True\n",
        "        if year%100 == 0:\n",
        "            leap = False\n",
        "        if year%400 == 0:\n",
        "            leap=True \n",
        "    \n",
        "    return leap"
      ],
      "execution_count": 8,
      "outputs": []
    },
    {
      "cell_type": "code",
      "metadata": {
        "colab": {
          "base_uri": "https://localhost:8080/"
        },
        "id": "TBi9V7ynStbO",
        "outputId": "d2811f36-6af5-40fc-c084-b26cba004058"
      },
      "source": [
        "year = int(input())\n",
        "print(is_leap(year))"
      ],
      "execution_count": 9,
      "outputs": [
        {
          "output_type": "stream",
          "text": [
            "2021\n",
            "False\n"
          ],
          "name": "stdout"
        }
      ]
    },
    {
      "cell_type": "markdown",
      "metadata": {
        "id": "AdL-ekRMSj_0"
      },
      "source": [
        "# Problem 7\n",
        "Print function"
      ]
    },
    {
      "cell_type": "code",
      "metadata": {
        "colab": {
          "base_uri": "https://localhost:8080/"
        },
        "id": "kzt9EeXZSnHS",
        "outputId": "f02c5126-9b3e-4c8b-8902-87f1b4abdf1d"
      },
      "source": [
        "if __name__ == '__main__':\n",
        "    n = int(input())\n",
        "    str=''\n",
        "    for i in range(1,n+1):\n",
        "        print (i, end='')"
      ],
      "execution_count": 10,
      "outputs": [
        {
          "output_type": "stream",
          "text": [
            "8\n",
            "12345678"
          ],
          "name": "stdout"
        }
      ]
    },
    {
      "cell_type": "code",
      "metadata": {
        "id": "-yWOWUBHS3lu"
      },
      "source": [
        ""
      ],
      "execution_count": null,
      "outputs": []
    }
  ]
}