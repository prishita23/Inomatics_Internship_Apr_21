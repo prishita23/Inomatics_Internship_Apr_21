{
  "nbformat": 4,
  "nbformat_minor": 0,
  "metadata": {
    "colab": {
      "name": "Innomatics Assignment 6.ipynb",
      "provenance": []
    },
    "kernelspec": {
      "name": "python3",
      "display_name": "Python 3"
    },
    "language_info": {
      "name": "python"
    }
  },
  "cells": [
    {
      "cell_type": "markdown",
      "metadata": {
        "id": "3qqnTOeW98fd"
      },
      "source": [
        "# Problem 1\n",
        "Arrays"
      ]
    },
    {
      "cell_type": "code",
      "metadata": {
        "colab": {
          "base_uri": "https://localhost:8080/"
        },
        "id": "v0PG-rNO8kB3",
        "outputId": "063711ae-ba6d-4aa8-9566-6e2b9aa35ad5"
      },
      "source": [
        "import numpy\n",
        "\n",
        "def arrays(arr):\n",
        "    arr = numpy.array(arr, float)\n",
        "    return arr[::-1]\n",
        "\n",
        "arr = input().strip().split(' ')\n",
        "result = arrays(arr)\n",
        "print(result)"
      ],
      "execution_count": null,
      "outputs": [
        {
          "output_type": "stream",
          "text": [
            "1 2 3 4 -8 -10\n",
            "[-10.  -8.   4.   3.   2.   1.]\n"
          ],
          "name": "stdout"
        }
      ]
    },
    {
      "cell_type": "markdown",
      "metadata": {
        "id": "Ure2jfQu-FlS"
      },
      "source": [
        "# Problem 2\n",
        "Shape and Reshape"
      ]
    },
    {
      "cell_type": "code",
      "metadata": {
        "colab": {
          "base_uri": "https://localhost:8080/"
        },
        "id": "zpIihyZU-Bco",
        "outputId": "5bd91fa4-fe1d-4d14-8f33-9f0be1325378"
      },
      "source": [
        "import numpy\n",
        "\n",
        "arr = numpy.array(input().strip().split(), int)\n",
        "print(numpy.reshape(arr, (3,3)))"
      ],
      "execution_count": null,
      "outputs": [
        {
          "output_type": "stream",
          "text": [
            "1 2 3 4 5 6 7 8 9\n",
            "[[1 2 3]\n",
            " [4 5 6]\n",
            " [7 8 9]]\n"
          ],
          "name": "stdout"
        }
      ]
    },
    {
      "cell_type": "markdown",
      "metadata": {
        "id": "JnXafT0aAHIY"
      },
      "source": [
        "# Problem 3\n",
        "Transpose and Flatten"
      ]
    },
    {
      "cell_type": "code",
      "metadata": {
        "colab": {
          "base_uri": "https://localhost:8080/"
        },
        "id": "nsPa1zx-ACUa",
        "outputId": "33086537-25e6-4b78-c200-035d88f4e759"
      },
      "source": [
        "import numpy\n",
        "\n",
        "n, m = map(int, input().split())\n",
        "array = numpy.array([input().strip().split() for _ in range(n)], int)\n",
        "print (array.transpose())\n",
        "print (array.flatten())"
      ],
      "execution_count": null,
      "outputs": [
        {
          "output_type": "stream",
          "text": [
            "2 2\n",
            "1 2\n",
            "3 4\n",
            "[[1 3]\n",
            " [2 4]]\n",
            "[1 2 3 4]\n"
          ],
          "name": "stdout"
        }
      ]
    },
    {
      "cell_type": "markdown",
      "metadata": {
        "id": "8f8BdYDDC3Lb"
      },
      "source": [
        "# Problem 4\n",
        "Concatenate"
      ]
    },
    {
      "cell_type": "code",
      "metadata": {
        "colab": {
          "base_uri": "https://localhost:8080/"
        },
        "id": "aQwgO0XuCywl",
        "outputId": "ab168620-f48c-48f3-ffb5-4d1fe2ee3978"
      },
      "source": [
        "import numpy as np\n",
        "\n",
        "n, m, p = map(int,input().split())\n",
        "A = np.array([input().split() for _ in range(n)],int)\n",
        "B = np.array([input().split() for _ in range(m)],int)\n",
        "print(np.concatenate((A, B), axis = 0))"
      ],
      "execution_count": null,
      "outputs": [
        {
          "output_type": "stream",
          "text": [
            "4 3 2\n",
            "1 2\n",
            "1 2\n",
            "1 2\n",
            "1 2\n",
            "3 4\n",
            "3 4\n",
            "3 4\n",
            "[[1 2]\n",
            " [1 2]\n",
            " [1 2]\n",
            " [1 2]\n",
            " [3 4]\n",
            " [3 4]\n",
            " [3 4]]\n"
          ],
          "name": "stdout"
        }
      ]
    },
    {
      "cell_type": "markdown",
      "metadata": {
        "id": "7QFy_EfLDpVm"
      },
      "source": [
        "# Problem 5\n",
        "Zeros and Ones"
      ]
    },
    {
      "cell_type": "code",
      "metadata": {
        "colab": {
          "base_uri": "https://localhost:8080/"
        },
        "id": "GDj-hKgKDgdA",
        "outputId": "38ec5ceb-a254-483e-dfa7-c5ceff4f6039"
      },
      "source": [
        "import numpy\n",
        "\n",
        "nums = tuple(map(int, input().split()))\n",
        "print (numpy.zeros(nums, dtype = numpy.int))\n",
        "print (numpy.ones(nums, dtype = numpy.int))"
      ],
      "execution_count": null,
      "outputs": [
        {
          "output_type": "stream",
          "text": [
            "3 3 3\n",
            "[[[0 0 0]\n",
            "  [0 0 0]\n",
            "  [0 0 0]]\n",
            "\n",
            " [[0 0 0]\n",
            "  [0 0 0]\n",
            "  [0 0 0]]\n",
            "\n",
            " [[0 0 0]\n",
            "  [0 0 0]\n",
            "  [0 0 0]]]\n",
            "[[[1 1 1]\n",
            "  [1 1 1]\n",
            "  [1 1 1]]\n",
            "\n",
            " [[1 1 1]\n",
            "  [1 1 1]\n",
            "  [1 1 1]]\n",
            "\n",
            " [[1 1 1]\n",
            "  [1 1 1]\n",
            "  [1 1 1]]]\n"
          ],
          "name": "stdout"
        }
      ]
    },
    {
      "cell_type": "markdown",
      "metadata": {
        "id": "y5jSD_EhEXBY"
      },
      "source": [
        "# Problem 6\n",
        "Eye annd Identity"
      ]
    },
    {
      "cell_type": "code",
      "metadata": {
        "id": "-Y_PgcxtEQYF",
        "colab": {
          "base_uri": "https://localhost:8080/"
        },
        "outputId": "4d9b11d4-3042-4605-a63c-ae6eca60d4ea"
      },
      "source": [
        "import numpy\n",
        "\n",
        "arr = tuple(map(int, input().split()))\n",
        "A = numpy.eye(arr[0], arr[1])\n",
        "print(str(A).replace('1', ' 1').replace('0', ' 0'))"
      ],
      "execution_count": null,
      "outputs": [
        {
          "output_type": "stream",
          "text": [
            "3 3\n",
            "[[ 1.  0.  0.]\n",
            " [ 0.  1.  0.]\n",
            " [ 0.  0.  1.]]\n"
          ],
          "name": "stdout"
        }
      ]
    },
    {
      "cell_type": "markdown",
      "metadata": {
        "id": "x1fSbCuzH7xT"
      },
      "source": [
        "# Problem 7\n",
        "Array Mathemetics"
      ]
    },
    {
      "cell_type": "code",
      "metadata": {
        "colab": {
          "base_uri": "https://localhost:8080/"
        },
        "id": "Vs3yoLSVH3Um",
        "outputId": "c7019141-3f03-4512-ba6f-6ed7ac4793cf"
      },
      "source": [
        "import numpy as np\n",
        "\n",
        "n, m = map(int, input().split())\n",
        "a = np.array([input().split() for _ in range(n)], dtype=int) \n",
        "b = np.array([input().split() for _ in range(n)], dtype=int) \n",
        "print(a+b, a-b, a*b, a//b, a%b, a**b, sep='\\n')"
      ],
      "execution_count": null,
      "outputs": [
        {
          "output_type": "stream",
          "text": [
            "1 4\n",
            "1 2 3 4\n",
            "5 6 7 8\n",
            "[[ 6  8 10 12]]\n",
            "[[-4 -4 -4 -4]]\n",
            "[[ 5 12 21 32]]\n",
            "[[0 0 0 0]]\n",
            "[[1 2 3 4]]\n",
            "[[    1    64  2187 65536]]\n"
          ],
          "name": "stdout"
        }
      ]
    },
    {
      "cell_type": "markdown",
      "metadata": {
        "id": "nIVatnlaKJsH"
      },
      "source": [
        "# Problem 8\n",
        "Floor, Ceil and Rint"
      ]
    },
    {
      "cell_type": "code",
      "metadata": {
        "id": "Q36WV8gTJvk7",
        "colab": {
          "base_uri": "https://localhost:8080/"
        },
        "outputId": "f46be42b-99d5-4930-cbff-ae72a6bffeb9"
      },
      "source": [
        "import numpy\n",
        "\n",
        "numpy.set_printoptions(sign=' ')\n",
        "\n",
        "a = numpy.array(input().split(),float)\n",
        "\n",
        "print(numpy.floor(a))\n",
        "print(numpy.ceil(a))\n",
        "print(numpy.rint(a))"
      ],
      "execution_count": 1,
      "outputs": [
        {
          "output_type": "stream",
          "text": [
            "1.1 2.2 3.3 4.4 5.5 6.6 7.7 8.8 9.9\n",
            "[ 1.  2.  3.  4.  5.  6.  7.  8.  9.]\n",
            "[  2.   3.   4.   5.   6.   7.   8.   9.  10.]\n",
            "[  1.   2.   3.   4.   6.   7.   8.   9.  10.]\n"
          ],
          "name": "stdout"
        }
      ]
    },
    {
      "cell_type": "markdown",
      "metadata": {
        "id": "ynBSyiRK7Z6l"
      },
      "source": [
        "# Problem 9\n",
        "Sum and Prod"
      ]
    },
    {
      "cell_type": "code",
      "metadata": {
        "colab": {
          "base_uri": "https://localhost:8080/"
        },
        "id": "2Syq7e1B7SLd",
        "outputId": "3eafdc79-410f-4975-8e89-490fc1cf8971"
      },
      "source": [
        "import numpy\n",
        "N, M = map(int, input().split())\n",
        "A = numpy.array([input().split() for _ in range(N)],int)\n",
        "print(numpy.prod(numpy.sum(A, axis=0), axis=0))"
      ],
      "execution_count": 3,
      "outputs": [
        {
          "output_type": "stream",
          "text": [
            "2 2\n",
            "1 2\n",
            "3 4\n",
            "24\n"
          ],
          "name": "stdout"
        }
      ]
    },
    {
      "cell_type": "markdown",
      "metadata": {
        "id": "SiIxBDLl8OPn"
      },
      "source": [
        "# Problem 10\n",
        "Min and Max"
      ]
    },
    {
      "cell_type": "code",
      "metadata": {
        "colab": {
          "base_uri": "https://localhost:8080/"
        },
        "id": "18MsK4SY8F0y",
        "outputId": "74ecdb52-c1d5-4357-c933-70c104d178fc"
      },
      "source": [
        "import numpy as np\n",
        "\n",
        "n, m = list(map(int, (input().split())))\n",
        "a = np.array([list(map(int,(input().split()))) for i in range(int(n))])\n",
        "print(np.max(np.min(a, axis = 1), axis = None))"
      ],
      "execution_count": 4,
      "outputs": [
        {
          "output_type": "stream",
          "text": [
            "4 2\n",
            "2 5\n",
            "3 7\n",
            "1 3\n",
            "4 0\n",
            "3\n"
          ],
          "name": "stdout"
        }
      ]
    },
    {
      "cell_type": "markdown",
      "metadata": {
        "id": "zoTRD69M8oVg"
      },
      "source": [
        "# Problem 11\n",
        "Mean, Var and Std"
      ]
    },
    {
      "cell_type": "code",
      "metadata": {
        "colab": {
          "base_uri": "https://localhost:8080/"
        },
        "id": "xmY7p4mB8Zsc",
        "outputId": "8639ea35-a351-4c47-ab33-e0be31898070"
      },
      "source": [
        "import numpy as np\n",
        "n, m = map(int, input().split())\n",
        "k = np.array([input().split() for _ in range(n)],dtype = int)\n",
        "std = round(np.std(k), 11)\n",
        "print(np.mean(k,axis=1), np.var(k,axis=0), std, sep='\\n')"
      ],
      "execution_count": 6,
      "outputs": [
        {
          "output_type": "stream",
          "text": [
            "2 2\n",
            "1 2\n",
            "3 4\n",
            "[ 1.5  3.5]\n",
            "[ 1.  1.]\n",
            "1.11803398875\n"
          ],
          "name": "stdout"
        }
      ]
    },
    {
      "cell_type": "markdown",
      "metadata": {
        "id": "UHyn2EyZ-k88"
      },
      "source": [
        "# Problem 12\n",
        "Dot and Cross Discussion"
      ]
    },
    {
      "cell_type": "code",
      "metadata": {
        "colab": {
          "base_uri": "https://localhost:8080/"
        },
        "id": "9itZcLru865z",
        "outputId": "81b08aa8-426d-41e3-c5a6-4b07f211fdd5"
      },
      "source": [
        "import numpy\n",
        "a=int(input())\n",
        "arr1=numpy.array([list(map(int,input().split())) for _ in range(a)])\n",
        "arr2=numpy.array([list(map(int,input().split())) for _ in range(a)])\n",
        "print(numpy.dot(arr1,arr2))"
      ],
      "execution_count": 7,
      "outputs": [
        {
          "output_type": "stream",
          "text": [
            "2\n",
            "1 2\n",
            "3 4\n",
            "1 2\n",
            "3 4\n",
            "[[ 7 10]\n",
            " [15 22]]\n"
          ],
          "name": "stdout"
        }
      ]
    },
    {
      "cell_type": "markdown",
      "metadata": {
        "id": "xPiq3nFp_Fqa"
      },
      "source": [
        "# Problem 13\n",
        "Inner and Outer Discussion"
      ]
    },
    {
      "cell_type": "code",
      "metadata": {
        "colab": {
          "base_uri": "https://localhost:8080/"
        },
        "id": "fQ4VFJ7N-xMZ",
        "outputId": "e138ceb2-0ae1-436d-c5ee-49e0272e62bf"
      },
      "source": [
        "import numpy as np\n",
        "A = np.array(input().split(), int)\n",
        "B = np.array(input().split(), int)\n",
        "print(np.inner(A,B), np.outer(A,B), sep='\\n')"
      ],
      "execution_count": 8,
      "outputs": [
        {
          "output_type": "stream",
          "text": [
            "0 1\n",
            "2 3\n",
            "3\n",
            "[[0 0]\n",
            " [2 3]]\n"
          ],
          "name": "stdout"
        }
      ]
    },
    {
      "cell_type": "markdown",
      "metadata": {
        "id": "VXAUAJbj_0_r"
      },
      "source": [
        "# Problem 14\n",
        "Polynomials Discussions"
      ]
    },
    {
      "cell_type": "code",
      "metadata": {
        "colab": {
          "base_uri": "https://localhost:8080/"
        },
        "id": "CwA9CO4A_Qjk",
        "outputId": "5b6c4cfa-c70d-474d-d38d-c0efa95be22b"
      },
      "source": [
        "import numpy\n",
        "n = list(map(float,input().split()))\n",
        "m = input()\n",
        "print(numpy.polyval(n,int(m)))"
      ],
      "execution_count": 9,
      "outputs": [
        {
          "output_type": "stream",
          "text": [
            "1.1 2 3\n",
            "0\n",
            "3.0\n"
          ],
          "name": "stdout"
        }
      ]
    },
    {
      "cell_type": "markdown",
      "metadata": {
        "id": "4kTgwEMcADYT"
      },
      "source": [
        "# Problem 15\n",
        "Linear Algebra Discussions"
      ]
    },
    {
      "cell_type": "code",
      "metadata": {
        "colab": {
          "base_uri": "https://localhost:8080/"
        },
        "id": "qNK8VKo1_531",
        "outputId": "def8a04f-0b0f-46d5-a517-172d5dbe5ef9"
      },
      "source": [
        "import numpy\n",
        "print(round(numpy.linalg.det(numpy.array([list(map(float,input().split())) for _ in range(int(input()))])),2))"
      ],
      "execution_count": 10,
      "outputs": [
        {
          "output_type": "stream",
          "text": [
            "2\n",
            "1.1 1.1\n",
            "1.1 1.1\n",
            "0.0\n"
          ],
          "name": "stdout"
        }
      ]
    }
  ]
}