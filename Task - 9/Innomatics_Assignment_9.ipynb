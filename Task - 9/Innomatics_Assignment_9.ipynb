{
  "nbformat": 4,
  "nbformat_minor": 0,
  "metadata": {
    "colab": {
      "name": "Innomatics Assignment 9.ipynb",
      "provenance": [],
      "collapsed_sections": []
    },
    "kernelspec": {
      "name": "python3",
      "display_name": "Python 3"
    },
    "language_info": {
      "name": "python"
    }
  },
  "cells": [
    {
      "cell_type": "markdown",
      "metadata": {
        "id": "RIcP8M9qUXMs"
      },
      "source": [
        "# **Hypothesis Testing**"
      ]
    },
    {
      "cell_type": "code",
      "metadata": {
        "id": "y2Z4AuySUYYy"
      },
      "source": [
        "import matplotlib.pyplot as plt\n",
        "import numpy as np\n",
        "from scipy.stats import t, norm"
      ],
      "execution_count": 1,
      "outputs": []
    },
    {
      "cell_type": "code",
      "metadata": {
        "id": "HubgAxfYWq7P"
      },
      "source": [
        "def t_score(sample_mean, pop_mean, sample_std, sample_size):\n",
        "  numerator = sample_mean - pop_mean\n",
        "  denominator = sample_std / ((sample_size-1)**0.5)\n",
        "  return numerator/denominator"
      ],
      "execution_count": 2,
      "outputs": []
    },
    {
      "cell_type": "markdown",
      "metadata": {
        "id": "vs79K00GlBhc"
      },
      "source": [
        "## **Understanding Hypothesis Testing**\n",
        "\n",
        "Step 1:  \n",
        "Alternate Hypothesis (Bold claim): $H_1 \\Rightarrow\\,>,\\,<,\\,\\neq$\n",
        "Null Hypothesis (Status Quo): $H_0 \\Rightarrow\\,\\leq,\\,\\geq,\\,=$\n",
        "Step 2:  \n",
        "* Collect a sample of size n  \n",
        "* Compute the mean from the sample $\\bar{x}$\n",
        "Step 3:  \n",
        "* If population variance is known\n",
        "$$ z = \\frac{\\bar{x}-\\mu}{\\sigma/\\sqrt[2]{n}}$$\n",
        "* If population variance is unknown\n",
        "$$ t = \\frac{\\bar{x} - \\mu}{s/\\sqrt[2]{n}}$$\n",
        "Step 4:  \n",
        "Decide significance level $\\alpha$. Lower $\\alpha$ means you need stronger evidence to reject Null Hypothesis. \n",
        "Step 5.1:  \n",
        "Apply decision rule:\n",
        "* If test statistic is z-score:  \n",
        "  * Two failed z-test:\n",
        "$$|z| > z_\\frac{\\alpha}{2}\\, \\Rightarrow\\, Accept\\, H_1\\, or\\, Reject\\, H_0$$\n",
        "  * Right tailed z-test:\n",
        "$$z > z_\\alpha \\Rightarrow\\, Accept\\, H_1\\, or\\, Reject\\, H_0$$\n",
        "  * Left tailed z-test:\n",
        "$$z < -z\\alpha \\Rightarrow\\, Accept\\, H_1\\, or\\, Reject\\, H_0$$\n",
        "* If test statistic is t-score:\n",
        "  * Two tailed t-test:\n",
        "$$|t| > t_{n-1,\\frac{\\alpha}{2}} \\Rightarrow\\, Accept\\, H_1\\, or\\, Reject\\, H_0$$\n",
        "  * Right tailed t-test:\n",
        "$$t > t_{n-1, \\alpha} \\Rightarrow\\, Accept\\, H_1\\, or\\, Reject\\, H_0$$\n",
        "* Left tailed t-test:\n",
        "$$t < t_{n-1,\\alpha} \\Rightarrow\\, Accept\\, H_1\\, or\\, Reject\\, H_0$$\n",
        " **Note:**  \n",
        "* If the Alternate hypothesis has $\\neq$ we make use of the **Two tailed test**.\n",
        "* If the Alternate Hypothesi has > sign we make use of the **Right tailed test**.\n",
        "* If the Alternate Hypothesis has < sign we make use of the **Left tailed test**.\n",
        "Step 5.2:  \n",
        "Compute p-value $P(Test Statistics|H_0)$\n",
        "* For two tailed test:\n",
        "$$p\\, vlaue = 2*(1.0-cdf(test\\, statistic))$$\n",
        "* For one tailed test:\n",
        "$$p\\, value = (1.0-cdf(test\\, statistic))$$\n",
        "   Now,\n",
        "$$if(p\\, value<\\alpha) \\Rightarrow\\, Accept\\, H_1\\, or\\, Reject\\, H_0$$"
      ]
    },
    {
      "cell_type": "markdown",
      "metadata": {
        "id": "yu00IrqfWLMP"
      },
      "source": [
        "## **Unknown Variance of Population**\n",
        "**Q-1: Pista House selling Hyderabadi Chicken Dum biryani claims that each parcel packet has 500 grams of biryani (also mentioned on the label of packet). You are sceptic of their claims and believe that on average each packet does not contain 500 grams of biryani. How do you prove your claim? ~(Given that the population std is 50)~**"
      ]
    },
    {
      "cell_type": "markdown",
      "metadata": {
        "id": "8v_EYYTBSRBl"
      },
      "source": [
        "Step 1:  \n",
        "Alternate Hypothesis (Bold Claim):\n",
        "$$H_1:\\,\\, \\mu \\neq 500$$\n",
        "Null Hypothesis (Status Quo):\n",
        "$$H_0:\\,\\, \\mu = 500$$\n",
        "Step 2:\n",
        "* Collect a sample of size n = 10\n",
        "$$[490,\\, 220,\\, 470,\\, 500,\\, 495,\\, 496,\\, 496,\\, 498,\\, 508,\\, 480]$$\n"
      ]
    },
    {
      "cell_type": "code",
      "metadata": {
        "colab": {
          "base_uri": "https://localhost:8080/"
        },
        "id": "qwwmnw-Gk1_P",
        "outputId": "fe5d31b7-7a93-4e94-860d-79f9763fdce8"
      },
      "source": [
        "sample = [490, 220, 470, 500, 495, 496,496, 498, 508,480]\n",
        "\n",
        "sample_mean = sum(sample)/len(sample)\n",
        "sample_std = np.std(sample)\n",
        "print(sample_mean)\n",
        "print(sample_std)"
      ],
      "execution_count": 3,
      "outputs": [
        {
          "output_type": "stream",
          "text": [
            "465.3\n",
            "82.3918078451978\n"
          ],
          "name": "stdout"
        }
      ]
    },
    {
      "cell_type": "code",
      "metadata": {
        "id": "s52a83mYXb7o"
      },
      "source": [
        "pop_mean = 500\n",
        "sample_size = len(sample)"
      ],
      "execution_count": 4,
      "outputs": []
    },
    {
      "cell_type": "markdown",
      "metadata": {
        "id": "TZVvyuDVUhJ6"
      },
      "source": [
        "Step 2:\n",
        "* Compute sample mean\n",
        "$$\\bar{x}=465.3$$\n",
        "  \n",
        "Step 3:  \n",
        "Compute Test Statistic:  \n",
        "**Note**: Since we have not been provided with the standard deviation for the entire population we will be making use of the t-score.  \n",
        "$$t = \\frac{\\bar{x} - \\mu}{s/\\sqrt[2]{n}}$$\n"
      ]
    },
    {
      "cell_type": "code",
      "metadata": {
        "colab": {
          "base_uri": "https://localhost:8080/"
        },
        "id": "rloDo9WoUPPG",
        "outputId": "8deedc5d-728a-4d10-83f6-04869824059b"
      },
      "source": [
        "#Calculating the t-score\n",
        "tScore = t_score(sample_mean, pop_mean, sample_std, sample_size)\n",
        "\n",
        "print(tScore)"
      ],
      "execution_count": 5,
      "outputs": [
        {
          "output_type": "stream",
          "text": [
            "-1.2634751284446712\n"
          ],
          "name": "stdout"
        }
      ]
    },
    {
      "cell_type": "markdown",
      "metadata": {
        "id": "82QdL9HQXq-B"
      },
      "source": [
        "Step 4:  \n",
        "Decide $\\alpha$ or significance level"
      ]
    },
    {
      "cell_type": "code",
      "metadata": {
        "id": "eu9rBQswWLFW"
      },
      "source": [
        "confidence_level = 0.95\n",
        "\n",
        "alpha = 1 - confidence_level"
      ],
      "execution_count": 6,
      "outputs": []
    },
    {
      "cell_type": "markdown",
      "metadata": {
        "id": "_bIH7BDKYQnv"
      },
      "source": [
        "Step 5.1:  \n",
        "Two tailed t-test is being used here since the $\\neq$ sign is present in the Alternate hupothesis.\n",
        "$$ |t| > t_{n-1, \\frac{\\alpha}{2}} \\Rightarrow\\, Accept\\, H_1\\, or\\, Reject\\, H_0$$"
      ]
    },
    {
      "cell_type": "code",
      "metadata": {
        "colab": {
          "base_uri": "https://localhost:8080/"
        },
        "id": "r2ComOYJYGsX",
        "outputId": "d772c3bb-eb44-45fd-b490-a27e8efddd73"
      },
      "source": [
        "t_critical = t.ppf(1-(alpha/2), df = 9)\n",
        "\n",
        "print(t_critical)"
      ],
      "execution_count": 7,
      "outputs": [
        {
          "output_type": "stream",
          "text": [
            "2.2621571627409915\n"
          ],
          "name": "stdout"
        }
      ]
    },
    {
      "cell_type": "code",
      "metadata": {
        "colab": {
          "base_uri": "https://localhost:8080/",
          "height": 286
        },
        "id": "OkMqfStrZgOP",
        "outputId": "c8f7a4b0-8e44-4d4d-b14f-14e04a7daa52"
      },
      "source": [
        "#Plotting the sampling distribution with rejection regions\n",
        "\n",
        "#Defining the x minimum and the x maximum\n",
        "x_min = 400\n",
        "x_max = 600\n",
        "\n",
        "#Defining the sampling distribution mean and sampling distribution std\n",
        "mean = pop_mean\n",
        "std = sample_std / (sample_size**0.5)\n",
        "\n",
        "#Plotting the graph and setting the x limits\n",
        "x = np.linspace(x_min, x_max, 100)\n",
        "y = norm.pdf(x, mean, std)\n",
        "plt.xlim(x_min, x_max)\n",
        "plt.plot(x, y)\n",
        "\n",
        "#Computing the left and right critical values (Two tailed test)\n",
        "t_critical_left = pop_mean + (-t_critical * std)\n",
        "t_critical_right = pop_mean + (t_critical * std)\n",
        "\n",
        "#Shading the left rejection region\n",
        "x1 = np.linspace(x_min, t_critical_left, 100)\n",
        "y1 = norm.pdf(x1, mean, std)\n",
        "plt.fill_between(x1, y1, color='orange')\n",
        "\n",
        "#Shading the right rejection region\n",
        "x2 = np.linspace(t_critical_right, x_max, 100)\n",
        "y2 = norm.pdf(x2, mean, std)\n",
        "plt.fill_between(x2, y2, color='orange')\n",
        "\n",
        "#Plotting the sample mean and concluding the results\n",
        "plt.scatter(sample_mean, 0)\n",
        "plt.annotate(\"x_bar\", (sample_mean, 0.0007))\n",
        "\n",
        "#In this case the sample mean does not fall in the rejection region \n",
        "#i.e. here we Fail to reject the Null Hypothesis"
      ],
      "execution_count": 8,
      "outputs": [
        {
          "output_type": "execute_result",
          "data": {
            "text/plain": [
              "Text(465.3, 0.0007, 'x_bar')"
            ]
          },
          "metadata": {
            "tags": []
          },
          "execution_count": 8
        },
        {
          "output_type": "display_data",
          "data": {
            "image/png": "[encoded data removed]",
            "text/plain": [
              "<Figure size 432x288 with 1 Axes>"
            ]
          },
          "metadata": {
            "tags": [],
            "needs_background": "light"
          }
        }
      ]
    },
    {
      "cell_type": "code",
      "metadata": {
        "colab": {
          "base_uri": "https://localhost:8080/"
        },
        "id": "thXXs2Hbgk7k",
        "outputId": "71c56ba3-676f-4409-a8ca-168362e5fa45"
      },
      "source": [
        "#Conclusion using t-test\n",
        "\n",
        "if (abs(tScore) > t_critical):\n",
        "  print(\"Reject Null Hypothesis\")\n",
        "else:\n",
        "  print(\"Fail to reject Null Hypothesis\")"
      ],
      "execution_count": 9,
      "outputs": [
        {
          "output_type": "stream",
          "text": [
            "Fail to reject Null Hypothesis\n"
          ],
          "name": "stdout"
        }
      ]
    },
    {
      "cell_type": "markdown",
      "metadata": {
        "id": "Ht241bcmjB6C"
      },
      "source": [
        "Step 5.2:  \n",
        "Compute p-value"
      ]
    },
    {
      "cell_type": "code",
      "metadata": {
        "colab": {
          "base_uri": "https://localhost:8080/"
        },
        "id": "yeKQeQxzinML",
        "outputId": "a639c671-e99a-4ba2-c684-7c2690a03ba0"
      },
      "source": [
        "#Conclusion using p test\n",
        "\n",
        "p_value = 2 * (1.0 - norm.cdf(np.abs(tScore)))\n",
        "\n",
        "print(\"p_value = \", p_value)\n",
        "\n",
        "if (p_value < alpha):\n",
        "  print(\"Reject Null Hypothesis\")\n",
        "else:\n",
        "  print(\"Fail to reject Null Hypothesis\")"
      ],
      "execution_count": 10,
      "outputs": [
        {
          "output_type": "stream",
          "text": [
            "p_value =  0.20641847943818137\n",
            "Fail to reject Null Hypothesis\n"
          ],
          "name": "stdout"
        }
      ]
    },
    {
      "cell_type": "markdown",
      "metadata": {
        "id": "ViRsN6bhjq0F"
      },
      "source": [
        "**Q-2: You have developed a new Natural Language Processing Algorithm and done a user study. You claim that the average rating given by the users is greater than 4 on a scale of 1 to 5. How do you prove this to your client? ~(Given that the population std is 0.5)~**"
      ]
    },
    {
      "cell_type": "markdown",
      "metadata": {
        "id": "CJ8Hx95pj0Ae"
      },
      "source": [
        "Step 1:  \n",
        "Alternate Hypothesis (Bold Claim):\n",
        "$$H_1:\\, \\mu > 4$$\n",
        "Null Hypothesis (Status Quo):\n",
        "$$H_0:\\, \\mu \\leq4$$\n",
        "\n",
        "Step 2:  \n",
        "* Collect a sample of size n = 20\n",
        "$$[4,\\, 3,\\, 5,\\, 4,\\, 5,\\, 3,\\, 5,\\, 5,\\, 4,\\, 2,\\, 4,\\, 5,\\, 5,\\, 4,\\, 4,\\, 5,\\, 4,\\, 5,\\, 4,\\, 5]$$\n",
        "* Compute sample mean \n",
        "$$\\bar{x} = 4.25$$"
      ]
    },
    {
      "cell_type": "code",
      "metadata": {
        "colab": {
          "base_uri": "https://localhost:8080/"
        },
        "id": "P7zVX9FnjA04",
        "outputId": "ed69365f-b83c-4c07-edb6-95883b423f5d"
      },
      "source": [
        "sample_1 = [4, 3, 5, 4, 5, 3, 5, 5, 4, 2, 4, 5, 5, 4, 4, 5, 4, 5, 4, 5]\n",
        "\n",
        "sample_mean_1 = sum(sample_1)/len(sample_1)\n",
        "pop_mean = 4\n",
        "sample_std_1= np.std(sample_1)\n",
        "sample_size_1 = len(sample_1)\n",
        "print(sample_mean_1)\n",
        "print(sample_std_1)"
      ],
      "execution_count": 11,
      "outputs": [
        {
          "output_type": "stream",
          "text": [
            "4.25\n",
            "0.82915619758885\n"
          ],
          "name": "stdout"
        }
      ]
    },
    {
      "cell_type": "markdown",
      "metadata": {
        "id": "qSA_Eh8olmYf"
      },
      "source": [
        "Step 3:  \n",
        "Comput Test Statistic:\n",
        "$$ t = \\frac{\\bar{x}-\\mu}{s/\\sqrt[2]{n}}$$"
      ]
    },
    {
      "cell_type": "code",
      "metadata": {
        "colab": {
          "base_uri": "https://localhost:8080/"
        },
        "id": "REWjzjqflPgB",
        "outputId": "60c1ab78-1b63-423e-b1db-64acd5054dcd"
      },
      "source": [
        "tScore = t_score(sample_mean_1, pop_mean, sample_std_1, sample_size_1)\n",
        "\n",
        "print(tScore)"
      ],
      "execution_count": 12,
      "outputs": [
        {
          "output_type": "stream",
          "text": [
            "1.3142574813455419\n"
          ],
          "name": "stdout"
        }
      ]
    },
    {
      "cell_type": "markdown",
      "metadata": {
        "id": "T99mJ8OemcDq"
      },
      "source": [
        "Step 4:  \n",
        "Decide $\\alpha$"
      ]
    },
    {
      "cell_type": "code",
      "metadata": {
        "id": "TqbEtVKzmRXU"
      },
      "source": [
        "confidence_level = 0.95\n",
        "\n",
        "alpha = 1- confidence_level"
      ],
      "execution_count": 13,
      "outputs": []
    },
    {
      "cell_type": "markdown",
      "metadata": {
        "id": "wLEr8jf2m5k-"
      },
      "source": [
        "Step 5.1:  \n",
        "Right tailed t-test is being used since the > sign is present in the Alternate Hypothesis.  \n",
        "$$t>t_{n-1, \\alpha} \\Rightarrow\\, Accept\\, H_1\\, or\\, Reject\\, H_0$$"
      ]
    },
    {
      "cell_type": "code",
      "metadata": {
        "colab": {
          "base_uri": "https://localhost:8080/"
        },
        "id": "OLdJ-MUDm0dO",
        "outputId": "09e4c4ce-556d-488c-d245-873e5aa225de"
      },
      "source": [
        "t_critical = t.ppf(1-(alpha), df = 19)\n",
        "\n",
        "print(t_critical)"
      ],
      "execution_count": 14,
      "outputs": [
        {
          "output_type": "stream",
          "text": [
            "1.729132811521367\n"
          ],
          "name": "stdout"
        }
      ]
    },
    {
      "cell_type": "code",
      "metadata": {
        "colab": {
          "base_uri": "https://localhost:8080/",
          "height": 282
        },
        "id": "sjO8kACZn8xP",
        "outputId": "80b5c647-8a4f-4b22-8897-05b2d9d89849"
      },
      "source": [
        "#Plotting the sampling distribution with rejection regions\n",
        "\n",
        "#Defining the x minimum and the x maximum\n",
        "x_min = 3.5\n",
        "x_max = 4.5\n",
        "\n",
        "#Defining the sampling distribution mean and sampling distribution std\n",
        "mean = pop_mean\n",
        "std = sample_std_1 / (sample_size_1**0.5)\n",
        "\n",
        "#Plotting the graph and setting the x limits\n",
        "x = np.linspace(x_min, x_max, 100)\n",
        "y = norm.pdf(x, mean, std)\n",
        "plt.xlim(x_min, x_max)\n",
        "plt.plot(x, y)\n",
        "\n",
        "#Computing the left and right critical values (Right tailed test)\n",
        "t_critical_right = pop_mean + (t_critical * std)\n",
        "\n",
        "#Shading the right rejection region\n",
        "x1 = np.linspace(x_max, t_critical_right, 100)\n",
        "y1 = norm.pdf(x1, mean, std)\n",
        "plt.fill_between(x1, y1, color='orange')\n",
        "\n",
        "#Plotting the sample mean and concluding the results\n",
        "plt.scatter(sample_mean_1, 0)\n",
        "plt.annotate(\"x_bar\", (sample_mean_1, 0.1))\n",
        "\n",
        "#In this case the sample mean does not fall in the rejection region \n",
        "#i.e. here we Fail to reject the Null Hypothesis"
      ],
      "execution_count": 15,
      "outputs": [
        {
          "output_type": "execute_result",
          "data": {
            "text/plain": [
              "Text(4.25, 0.1, 'x_bar')"
            ]
          },
          "metadata": {
            "tags": []
          },
          "execution_count": 15
        },
        {
          "output_type": "display_data",
          "data": {
            "image/png": "[encoded data removed]",
            "text/plain": [
              "<Figure size 432x288 with 1 Axes>"
            ]
          },
          "metadata": {
            "tags": [],
            "needs_background": "light"
          }
        }
      ]
    },
    {
      "cell_type": "code",
      "metadata": {
        "colab": {
          "base_uri": "https://localhost:8080/"
        },
        "id": "ng_HbN59oNWA",
        "outputId": "c67cacd1-7dc6-4487-c8a6-d0433d1a7f51"
      },
      "source": [
        "#Conclusion using t-test\n",
        "\n",
        "if (tScore > t_critical):\n",
        "  print(\"Reject Null Hypothesis\")\n",
        "else:\n",
        "  print(\"Fail to reject Null Hypothesis\")"
      ],
      "execution_count": 16,
      "outputs": [
        {
          "output_type": "stream",
          "text": [
            "Fail to reject Null Hypothesis\n"
          ],
          "name": "stdout"
        }
      ]
    },
    {
      "cell_type": "markdown",
      "metadata": {
        "id": "dE-TuvRk0lda"
      },
      "source": [
        "Step 5.2:  \n",
        "Compute p-value"
      ]
    },
    {
      "cell_type": "code",
      "metadata": {
        "colab": {
          "base_uri": "https://localhost:8080/"
        },
        "id": "QGwkBYDlo4KD",
        "outputId": "211e9678-d478-4e9e-ed3a-8020fc617248"
      },
      "source": [
        "#Conclusion using p test\n",
        "\n",
        "p_value = 1.0 - norm.cdf(abs(tScore))\n",
        "\n",
        "print(\"p_value = \", p_value)\n",
        "\n",
        "if (p_value < alpha):\n",
        "  print(\"Reject Null Hypothesis\")\n",
        "else:\n",
        "  print(\"Fail to reject Null Hypothesis\")"
      ],
      "execution_count": 17,
      "outputs": [
        {
          "output_type": "stream",
          "text": [
            "p_value =  0.09437978527056279\n",
            "Fail to reject Null Hypothesis\n"
          ],
          "name": "stdout"
        }
      ]
    },
    {
      "cell_type": "markdown",
      "metadata": {
        "id": "XQueEWoCpNu-"
      },
      "source": [
        "**Q-3: TATA has developed a better fuel management system for the SUV segment. They claim that with this system, on average the SUV's mileage is at least 15 km/litre? ~(Given that the population std is 1)~**"
      ]
    },
    {
      "cell_type": "markdown",
      "metadata": {
        "id": "4F046QTQpTHF"
      },
      "source": [
        "Step 1:  \n",
        "Alternate Hypothesis (Bold Claim):\n",
        "$$H_1:\\, \\mu > 15 $$\n",
        "Null Hypothesis (Status Quo):\n",
        "$$H_0:\\ \\mu \\leq 15 $$\n",
        "Step 2:  \n",
        "* Collect a sample of size n = 20 \n",
        "$$[14.08,\\, 14.13,\\, 15.65,\\, 13.78,\\, 16.26,\\, 14.97,\\, 15.36,\\, 15.81,\\, 14.53,\\, 16.79,\\, 15.78,\\, 16.98,\\, 13.23,\\, 15.43,\\, 15.46,\\, 13.88,\\, 14.31,\\, 14.41,\\, 15.76,\\, 15.38]$$\n",
        "* Compute sample mean\n",
        "$$\\bar{x} = 15.1$$"
      ]
    },
    {
      "cell_type": "code",
      "metadata": {
        "colab": {
          "base_uri": "https://localhost:8080/"
        },
        "id": "U2fra1FdpL9k",
        "outputId": "63cb971b-98db-4713-dc53-71bd8bfcc5f2"
      },
      "source": [
        "sample_2 =  [14.08, 14.13, 15.65, 13.78, 16.26, 14.97, 15.36, 15.81, 14.53, 16.79, 15.78, 16.98, 13.23, 15.43, 15.46, 13.88, 14.31, 14.41, 15.76, 15.38] \n",
        "\n",
        "sample_mean_2 = sum(sample_2)/len(sample_2)\n",
        "sample_std_2 = np.std(sample_2)\n",
        "sample_size_2 = len(sample_2)\n",
        "pop_mean = 15\n",
        "print(sample_mean_2)\n",
        "print(sample_std_2)"
      ],
      "execution_count": 18,
      "outputs": [
        {
          "output_type": "stream",
          "text": [
            "15.098999999999998\n",
            "0.9994043225842081\n"
          ],
          "name": "stdout"
        }
      ]
    },
    {
      "cell_type": "markdown",
      "metadata": {
        "id": "XOxyRkqgqpjA"
      },
      "source": [
        "Step 3:  \n",
        "Comput Test Statistic:\n",
        "$$ t = \\frac{\\bar{x}-\\mu}{s/\\sqrt[2]{n}}$$"
      ]
    },
    {
      "cell_type": "code",
      "metadata": {
        "colab": {
          "base_uri": "https://localhost:8080/"
        },
        "id": "nthbQd-3qZD_",
        "outputId": "a16cb9ff-cb47-4d98-d74b-a9eda3f06732"
      },
      "source": [
        "tScore = t_score(sample_mean_2, pop_mean, sample_std_2, sample_size_2)\n",
        "\n",
        "print(tScore)"
      ],
      "execution_count": 19,
      "outputs": [
        {
          "output_type": "stream",
          "text": [
            "0.4317882018907916\n"
          ],
          "name": "stdout"
        }
      ]
    },
    {
      "cell_type": "markdown",
      "metadata": {
        "id": "_9D0kUQnrJeQ"
      },
      "source": [
        "Step 4:  \n",
        "Decide $\\alpha$"
      ]
    },
    {
      "cell_type": "code",
      "metadata": {
        "id": "jJ4kzycFrIiV"
      },
      "source": [
        "confidence_level = 0.95\n",
        "\n",
        "alpha = 1 - confidence_level"
      ],
      "execution_count": 20,
      "outputs": []
    },
    {
      "cell_type": "markdown",
      "metadata": {
        "id": "WMM1ZeiprShd"
      },
      "source": [
        "Step 5.1:  \n",
        "Right tailed t-test is being used since the > sign is present in the Alternate Hypothesis.  \n",
        "$$t>t_{n-1, \\alpha} \\Rightarrow\\, Accept\\, H_1\\, or\\, Reject\\, H_0$$"
      ]
    },
    {
      "cell_type": "code",
      "metadata": {
        "colab": {
          "base_uri": "https://localhost:8080/"
        },
        "id": "CBoikdHXrR98",
        "outputId": "ace2dee2-d01b-40b8-a5ca-62a656143d48"
      },
      "source": [
        "t_critical = t.ppf(1-(alpha), df = 19)\n",
        "\n",
        "print(t_critical)"
      ],
      "execution_count": 21,
      "outputs": [
        {
          "output_type": "stream",
          "text": [
            "1.729132811521367\n"
          ],
          "name": "stdout"
        }
      ]
    },
    {
      "cell_type": "code",
      "metadata": {
        "colab": {
          "base_uri": "https://localhost:8080/",
          "height": 282
        },
        "id": "Rn7ewOMarqRp",
        "outputId": "7ac17803-01d9-4c92-922f-981a0bdcba20"
      },
      "source": [
        "#Plotting the sampling distribution with rejection regions\n",
        "\n",
        "#Defining the x minimum and the x maximum\n",
        "x_min = 13\n",
        "x_max = 17\n",
        "\n",
        "#Defining the sampling distribution mean and sampling distribution std\n",
        "mean = pop_mean\n",
        "std = sample_std_2 / (sample_size_2**0.5)\n",
        "\n",
        "#Plotting the graph and setting the x limits\n",
        "x = np.linspace(x_min, x_max, 100)\n",
        "y = norm.pdf(x, mean, std)\n",
        "plt.xlim(x_min, x_max)\n",
        "plt.plot(x, y)\n",
        "\n",
        "#Computing the left and right critical values (Right tailed test)\n",
        "t_critical_right = pop_mean + (t_critical * std)\n",
        "\n",
        "#Shading the right rejection region\n",
        "x1 = np.linspace(x_max, t_critical_right, 100)\n",
        "y1 = norm.pdf(x1, mean, std)\n",
        "plt.fill_between(x1, y1, color='orange')\n",
        "\n",
        "#Plotting the sample mean and concluding the results\n",
        "plt.scatter(sample_mean_2, 0)\n",
        "plt.annotate(\"x_bar\", (sample_mean_2, 0.1))\n",
        "\n",
        "#In this case the sample mean does not fall in the rejection region \n",
        "#i.e. here we Fail to reject the Null Hypothesis"
      ],
      "execution_count": 22,
      "outputs": [
        {
          "output_type": "execute_result",
          "data": {
            "text/plain": [
              "Text(15.098999999999998, 0.1, 'x_bar')"
            ]
          },
          "metadata": {
            "tags": []
          },
          "execution_count": 22
        },
        {
          "output_type": "display_data",
          "data": {
            "image/png": "[encoded data removed]",
            "text/plain": [
              "<Figure size 432x288 with 1 Axes>"
            ]
          },
          "metadata": {
            "tags": [],
            "needs_background": "light"
          }
        }
      ]
    },
    {
      "cell_type": "code",
      "metadata": {
        "colab": {
          "base_uri": "https://localhost:8080/"
        },
        "id": "fjL4PjSWsDrQ",
        "outputId": "ea8d2899-92f1-455b-d051-2f0e8a7c8e65"
      },
      "source": [
        "#Conclusion using t-test\n",
        "\n",
        "if (tScore > t_critical):\n",
        "  print(\"Reject Null Hypothesis\")\n",
        "else:\n",
        "  print(\"Fail to reject Null Hypothesis\")"
      ],
      "execution_count": 23,
      "outputs": [
        {
          "output_type": "stream",
          "text": [
            "Fail to reject Null Hypothesis\n"
          ],
          "name": "stdout"
        }
      ]
    },
    {
      "cell_type": "markdown",
      "metadata": {
        "id": "kXTVVkGR0c_1"
      },
      "source": [
        "Step 5.2:  \n",
        "Compute p-value "
      ]
    },
    {
      "cell_type": "code",
      "metadata": {
        "colab": {
          "base_uri": "https://localhost:8080/"
        },
        "id": "eCnRRgAIsNGU",
        "outputId": "17bfad51-6b6e-4b14-fb25-012b496617d5"
      },
      "source": [
        "#Conclusion using p test\n",
        "\n",
        "p_value = 1.0 - norm.cdf(abs(tScore))\n",
        "\n",
        "print(\"p_value = \", p_value)\n",
        "\n",
        "if (p_value < alpha):\n",
        "  print(\"Reject Null Hypothesis\")\n",
        "else:\n",
        "  print(\"Fail to reject Null Hypothesis\")"
      ],
      "execution_count": 24,
      "outputs": [
        {
          "output_type": "stream",
          "text": [
            "p_value =  0.3329476775823499\n",
            "Fail to reject Null Hypothesis\n"
          ],
          "name": "stdout"
        }
      ]
    },
    {
      "cell_type": "markdown",
      "metadata": {
        "id": "vhWpSCeAsSdf"
      },
      "source": [
        "**Q-4: You have developed a new Machine Learning Application and claim that on average it takes less than 100 ms to predict for any future datapoint. How do you convince your client about this claim? ~(Based on past data you know that the std is 10 ms)~**"
      ]
    },
    {
      "cell_type": "markdown",
      "metadata": {
        "id": "1W95slS2sXRn"
      },
      "source": [
        "Step 1:  \n",
        "Alternate Hypothesis (Bold Claim):\n",
        "$$H_1:\\, \\mu < 100$$\n",
        "Null Hypothesis (Status Quo):\n",
        "$$H_0:\\, \\mu \\geq 100$$\n",
        "Step 2:  \n",
        "* Collect a sample of size n = 100\n",
        "* Comput sample mean\n",
        "$$\\bar{x} = 97.5$$\n",
        "Step 3:  \n",
        "Compute Test Statistic:\n",
        "$$t = \\frac{\\bar{x}-\\mu}{s/\\sqrt[2]{n}}$$"
      ]
    },
    {
      "cell_type": "code",
      "metadata": {
        "id": "7okOwxIAsQrq"
      },
      "source": [
        "sample_size_3 = 100\n",
        "sample_mean_3 = 97.5\n",
        "pop_mean = 100\n",
        "sample_std_3 = 8"
      ],
      "execution_count": 25,
      "outputs": []
    },
    {
      "cell_type": "code",
      "metadata": {
        "colab": {
          "base_uri": "https://localhost:8080/"
        },
        "id": "wn73qzdHyqVD",
        "outputId": "046a88c1-0aa3-4dfa-d6d8-554eb3e671cf"
      },
      "source": [
        "tScore = t_score(sample_mean_3, pop_mean, sample_std_3,sample_size_3)\n",
        "\n",
        "print(tScore)"
      ],
      "execution_count": 26,
      "outputs": [
        {
          "output_type": "stream",
          "text": [
            "-3.1093357409581874\n"
          ],
          "name": "stdout"
        }
      ]
    },
    {
      "cell_type": "markdown",
      "metadata": {
        "id": "FW_qLsS4zZnh"
      },
      "source": [
        "Step 4:  \n",
        "Decide $\\alpha$"
      ]
    },
    {
      "cell_type": "code",
      "metadata": {
        "id": "U4vD_lb0zOsc"
      },
      "source": [
        "confidence_level = 0.99\n",
        "\n",
        "alpha = 1 - confidence_level"
      ],
      "execution_count": 27,
      "outputs": []
    },
    {
      "cell_type": "markdown",
      "metadata": {
        "id": "iMBUFvfTzguD"
      },
      "source": [
        "Step 5.1:  \n",
        "Left tailed t-test is being used since the > sign is present in the Alternate Hypothesis.  \n",
        "$$t < t_{n-1, \\alpha} \\Rightarrow\\, Accept\\, H_1\\, or\\, Reject\\, H_0$$"
      ]
    },
    {
      "cell_type": "code",
      "metadata": {
        "colab": {
          "base_uri": "https://localhost:8080/"
        },
        "id": "2F_AmKa1zgG0",
        "outputId": "a72ccad5-852e-402a-ff4f-c4fd41294e8f"
      },
      "source": [
        "t_critical = t.ppf(1-(alpha), df = 19)\n",
        "\n",
        "print(t_critical)"
      ],
      "execution_count": 28,
      "outputs": [
        {
          "output_type": "stream",
          "text": [
            "2.539483190622288\n"
          ],
          "name": "stdout"
        }
      ]
    },
    {
      "cell_type": "code",
      "metadata": {
        "colab": {
          "base_uri": "https://localhost:8080/",
          "height": 51
        },
        "id": "y6wW_xolz2Be",
        "outputId": "a4aefec6-67fe-4537-bdfc-6d93d9b3d7b1"
      },
      "source": [
        "#Plotting the sampling distribution with rejection regions\n",
        "\n",
        "#Defining the x minimum and the x maximum\n",
        "x_min = 95\n",
        "x_max = 105\n",
        "\n",
        "#Defining the sampling distribution mean and sampling distribution std\n",
        "mean = pop_mean\n",
        "std = sample_std / (sample_size**0.5)\n",
        "\n",
        "#Plotting the graph and setting the x limits\n",
        "x = np.linspace(x_min, x_max, 100)\n",
        "y = norm.pdf(x, mean, std)\n",
        "plt.xlim(x_min, x_max)\n",
        "plt.plot(x, y)\n",
        "\n",
        "#Computing the left and right critical values (Left tailed test)\n",
        "t_critical_left = pop_mean + (-t_critical * std)\n",
        "\n",
        "#Shading the left rejection region\n",
        "x1 = np.linspace(x_min, t_critical_left, 100)\n",
        "y1 = norm.pdf(x1, mean, std)\n",
        "plt.fill_between(x1, y1, color='orange')\n",
        "\n",
        "#Plotting the sample mean and concluding the results\n",
        "plt.scatter(sample_mean, 0)\n",
        "plt.annotate(\"x_bar\", (sample_mean, 0.02))\n",
        "\n",
        "#In this case the sample mean fall in the rejection region \n",
        "#i.e. here we Reject the Null Hypothesis"
      ],
      "execution_count": 29,
      "outputs": [
        {
          "output_type": "execute_result",
          "data": {
            "text/plain": [
              "Text(465.3, 0.02, 'x_bar')"
            ]
          },
          "metadata": {
            "tags": []
          },
          "execution_count": 29
        },
        {
          "output_type": "display_data",
          "data": {
            "image/png": "[encoded data removed]",
            "text/plain": [
              "<Figure size 432x288 with 1 Axes>"
            ]
          },
          "metadata": {
            "tags": [],
            "needs_background": "light"
          }
        }
      ]
    },
    {
      "cell_type": "code",
      "metadata": {
        "colab": {
          "base_uri": "https://localhost:8080/"
        },
        "id": "H1gxkOksz85e",
        "outputId": "f6fb6f30-3c58-4cea-cd07-9d7992df19a9"
      },
      "source": [
        "#Conclusion using t-test\n",
        "\n",
        "if (tScore < t_critical):\n",
        "  print(\"Reject Null Hypothesis\")\n",
        "else:\n",
        "  print(\"Fail to reject Null Hypothesis\")"
      ],
      "execution_count": 30,
      "outputs": [
        {
          "output_type": "stream",
          "text": [
            "Reject Null Hypothesis\n"
          ],
          "name": "stdout"
        }
      ]
    },
    {
      "cell_type": "markdown",
      "metadata": {
        "id": "8h4IcMOC0qzP"
      },
      "source": [
        "Step 5.2:  \n",
        "Comput p-value"
      ]
    },
    {
      "cell_type": "code",
      "metadata": {
        "colab": {
          "base_uri": "https://localhost:8080/"
        },
        "id": "5YerkZaP0TWG",
        "outputId": "81d0c6a3-adce-4c59-f3f0-7cdeab924a7e"
      },
      "source": [
        "#Conclusion using p test\n",
        "\n",
        "p_value = 1.0 - norm.cdf(abs(tScore))\n",
        "\n",
        "print(\"p_value = \", p_value)\n",
        "\n",
        "if (p_value < alpha):\n",
        "  print(\"Reject Null Hypothesis\")\n",
        "else:\n",
        "  print(\"Fail to reject Null Hypothesis\")"
      ],
      "execution_count": 31,
      "outputs": [
        {
          "output_type": "stream",
          "text": [
            "p_value =  0.0009375425642585977\n",
            "Reject Null Hypothesis\n"
          ],
          "name": "stdout"
        }
      ]
    }
  ]
}