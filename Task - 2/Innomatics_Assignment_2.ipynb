{
  "nbformat": 4,
  "nbformat_minor": 0,
  "metadata": {
    "colab": {
      "name": "Innomatics Assignment 2.ipynb",
      "provenance": []
    },
    "kernelspec": {
      "name": "python3",
      "display_name": "Python 3"
    },
    "language_info": {
      "name": "python"
    }
  },
  "cells": [
    {
      "cell_type": "markdown",
      "metadata": {
        "id": "hOuTx-pPUxgV"
      },
      "source": [
        "# Problem 1\n",
        "List Comprehensions"
      ]
    },
    {
      "cell_type": "code",
      "metadata": {
        "colab": {
          "base_uri": "https://localhost:8080/"
        },
        "id": "u4FToj9EUsGq",
        "outputId": "a3695aa6-b21a-4b8c-ed55-c230d9ad5226"
      },
      "source": [
        "if __name__ == '__main__':\n",
        "    x = int(input())\n",
        "    y = int(input())\n",
        "    z = int(input())\n",
        "    n = int(input())\n",
        "    coord = []\n",
        "    for i in range(x+1):\n",
        "        for j in range(y+1):\n",
        "            for k in range(z+1):\n",
        "                if i+j+k != n:\n",
        "                    coord.append([i,j,k])\n",
        "    print(coord)"
      ],
      "execution_count": 2,
      "outputs": [
        {
          "output_type": "stream",
          "text": [
            "1\n",
            "1\n",
            "1\n",
            "2\n",
            "[[0, 0, 0], [0, 0, 1], [0, 1, 0], [1, 0, 0], [1, 1, 1]]\n"
          ],
          "name": "stdout"
        }
      ]
    },
    {
      "cell_type": "markdown",
      "metadata": {
        "id": "IEzU8uo4Vsrf"
      },
      "source": [
        "# Problem 2\n",
        "Find the runner-up"
      ]
    },
    {
      "cell_type": "code",
      "metadata": {
        "colab": {
          "base_uri": "https://localhost:8080/"
        },
        "id": "dmMjpjzHU44s",
        "outputId": "54a46018-a40f-42a7-b62d-436eff3fd2ef"
      },
      "source": [
        "if __name__ == '__main__':\n",
        "    n = int(input())\n",
        "    arr = list(map(int, input().split()))\n",
        "    max_value = max(arr)\n",
        "    runner_up = -100000\n",
        "    for i in range(n):\n",
        "        if arr[i] > runner_up and arr[i] < max_value:\n",
        "            runner_up = arr[i]\n",
        "    print(runner_up)"
      ],
      "execution_count": 3,
      "outputs": [
        {
          "output_type": "stream",
          "text": [
            "5\n",
            "2 3 6 6 5\n",
            "5\n"
          ],
          "name": "stdout"
        }
      ]
    },
    {
      "cell_type": "markdown",
      "metadata": {
        "id": "4RlFtDqTV4bP"
      },
      "source": [
        "# Problem 3\n",
        "Nested Lists"
      ]
    },
    {
      "cell_type": "code",
      "metadata": {
        "colab": {
          "base_uri": "https://localhost:8080/"
        },
        "id": "TDoUfMY6Vw4y",
        "outputId": "019a88f2-1d35-4f34-c00a-db6f536e95b8"
      },
      "source": [
        "if __name__ == '__main__':\n",
        "    records = []\n",
        "    for _ in range(int(input())):\n",
        "        name = input()\n",
        "        score = float(input())\n",
        "        records.append([name, score])\n",
        "    min = 10000000\n",
        "    sec_min = 10000000\n",
        "    for i in range(len(records)):\n",
        "        if records[i][1] < min:\n",
        "            min = records[i][1]\n",
        "    for i in range(len(records)):\n",
        "        if records[i][1] < sec_min and records[i][1] > min:\n",
        "            sec_min = records[i][1]\n",
        "    names = []\n",
        "    for i in range(len(records)):\n",
        "        if records[i][1] == sec_min:\n",
        "            names.append(records[i][0])\n",
        "    names.sort()\n",
        "    for i in range(len(names)):\n",
        "        print(names[i])"
      ],
      "execution_count": 10,
      "outputs": [
        {
          "output_type": "stream",
          "text": [
            "5\n",
            "Harry\n",
            "37.21\n",
            "Berry\n",
            "37.21\n",
            "Tina\n",
            "37.2\n",
            "Akriti\n",
            "41\n",
            "Harsh\n",
            "39\n",
            "Berry\n",
            "Harry\n"
          ],
          "name": "stdout"
        }
      ]
    },
    {
      "cell_type": "markdown",
      "metadata": {
        "id": "tpwBUIyssJSW"
      },
      "source": [
        "# Problem 4\n",
        "Lists"
      ]
    },
    {
      "cell_type": "code",
      "metadata": {
        "colab": {
          "base_uri": "https://localhost:8080/"
        },
        "id": "2HkAHWRGsIQF",
        "outputId": "bd7bb03d-f61b-4ef3-e615-2c06d303c3c0"
      },
      "source": [
        "if __name__ == '__main__':\n",
        "    N = int(input())\n",
        "    list_1 = []\n",
        "    for i in range(N):\n",
        "        str = input()\n",
        "        command = str.split()[0]\n",
        "        if command == 'insert':\n",
        "            list_1.insert(int(str.split()[1]), int(str.split()[2]))\n",
        "        elif command == 'print':\n",
        "            print(list_1)\n",
        "        elif command == 'remove':\n",
        "            list_1.remove(int(str.split()[1]))\n",
        "        elif command == 'append':\n",
        "            list_1.append(int(str.split()[1]))\n",
        "        elif command == 'sort':\n",
        "            list_1.sort()\n",
        "        elif command == 'pop':\n",
        "            list_1.pop()\n",
        "        elif command == 'reverse':\n",
        "            list_1.reverse()\n",
        "        else:\n",
        "            print('Wrong command')"
      ],
      "execution_count": 12,
      "outputs": [
        {
          "output_type": "stream",
          "text": [
            "12\n",
            "insert 0 5\n",
            "insert 1 10\n",
            "insert 0 6\n",
            "print\n",
            "[6, 5, 10]\n",
            "remove 6\n",
            "append 9\n",
            "append 1\n",
            "sort\n",
            "print\n",
            "[1, 5, 9, 10]\n",
            "pop\n",
            "reverse\n",
            "print\n",
            "[9, 5, 1]\n"
          ],
          "name": "stdout"
        }
      ]
    },
    {
      "cell_type": "markdown",
      "metadata": {
        "id": "dyu5hDIJXyO4"
      },
      "source": [
        "# Problem 5\n",
        "Finding the percentage"
      ]
    },
    {
      "cell_type": "code",
      "metadata": {
        "colab": {
          "base_uri": "https://localhost:8080/"
        },
        "id": "TmSfoqCOXgzx",
        "outputId": "ae11535d-26d4-4d56-f9ad-a291ae0a2aee"
      },
      "source": [
        "if __name__ == '__main__':\n",
        "    n = int(input())\n",
        "    student_marks = {}\n",
        "    for _ in range(n):\n",
        "        name, *line = input().split()\n",
        "        scores = list(map(float, line))\n",
        "        student_marks[name] = scores\n",
        "    query_name = input()\n",
        "    marks = student_marks[query_name]\n",
        "    print(\"{:.2f}\".format(sum(marks)/len(marks)))"
      ],
      "execution_count": 6,
      "outputs": [
        {
          "output_type": "stream",
          "text": [
            "3\n",
            "Krishna 67 68 69\n",
            "Arjun 70 98 63\n",
            "Malika 52 56 60\n",
            "Malika\n",
            "56.00\n"
          ],
          "name": "stdout"
        }
      ]
    },
    {
      "cell_type": "markdown",
      "metadata": {
        "id": "muDlrGspZaPy"
      },
      "source": [
        "# Problem 6\n",
        "Tupples"
      ]
    },
    {
      "cell_type": "code",
      "metadata": {
        "colab": {
          "base_uri": "https://localhost:8080/"
        },
        "id": "CAy4HystZSqx",
        "outputId": "6f6f4423-0935-49b8-9877-bb16b1c5151a"
      },
      "source": [
        "if __name__ == '__main__':\n",
        "    n = int(input())\n",
        "    integer_list = map(int, input().split())\n",
        "    t = tuple(integer_list)\n",
        "    print(hash(t))"
      ],
      "execution_count": 20,
      "outputs": [
        {
          "output_type": "stream",
          "text": [
            "2\n",
            "1 2\n",
            "3713081631934410656\n"
          ],
          "name": "stdout"
        }
      ]
    },
    {
      "cell_type": "markdown",
      "metadata": {
        "id": "0kLda5KXgUG1"
      },
      "source": [
        "# Problem 7\n",
        "Introduction to sets"
      ]
    },
    {
      "cell_type": "code",
      "metadata": {
        "colab": {
          "base_uri": "https://localhost:8080/"
        },
        "id": "HgeUgKYIfQOd",
        "outputId": "f5c3b920-dd8a-4309-bed7-91f5649f7abe"
      },
      "source": [
        "def average(array):\n",
        "    # your code goes here\n",
        "    set_1 = set(array)\n",
        "    avg = sum(set_1)/len(set_1)\n",
        "    return avg\n",
        "\n",
        "if __name__ == '__main__':\n",
        "    n = int(input())\n",
        "    arr = list(map(int, input().split()))\n",
        "    result = average(arr)\n",
        "    print(result)"
      ],
      "execution_count": 21,
      "outputs": [
        {
          "output_type": "stream",
          "text": [
            "10\n",
            "161 182 161 154 176 170 167 171 170 174\n",
            "169.375\n"
          ],
          "name": "stdout"
        }
      ]
    },
    {
      "cell_type": "markdown",
      "metadata": {
        "id": "bq8u8C86ixGZ"
      },
      "source": [
        "# Problem 8\n",
        "No ideaa!"
      ]
    },
    {
      "cell_type": "code",
      "metadata": {
        "colab": {
          "base_uri": "https://localhost:8080/"
        },
        "id": "k69x6AAoiuqH",
        "outputId": "693ab192-d047-48e4-f851-d3d23ae96433"
      },
      "source": [
        "str = input()\n",
        "n = str.split()[0]\n",
        "m = str.split()[1]\n",
        "arr = list(map(int, input().split()))\n",
        "A = set(map(int, input().split()))\n",
        "B = set(map(int, input().split()))\n",
        "happiness = 0\n",
        "for i in arr:\n",
        "    if i in A:\n",
        "        happiness += 1\n",
        "    elif i in B:\n",
        "        happiness -= 1\n",
        "print(happiness)"
      ],
      "execution_count": 26,
      "outputs": [
        {
          "output_type": "stream",
          "text": [
            "3 2\n",
            "1 5 3\n",
            "3 1\n",
            "5 7\n",
            "1\n"
          ],
          "name": "stdout"
        }
      ]
    },
    {
      "cell_type": "markdown",
      "metadata": {
        "id": "W6FuYFKulUGQ"
      },
      "source": [
        "# Problem 9\n",
        "Symmetric Difference"
      ]
    },
    {
      "cell_type": "code",
      "metadata": {
        "colab": {
          "base_uri": "https://localhost:8080/"
        },
        "id": "hSe2_6kCj6lM",
        "outputId": "9d26a682-51f6-4f6d-9c94-bb4961c5edc2"
      },
      "source": [
        "m = int(input())\n",
        "a = list(map(int, input().split()))\n",
        "a = set(a)\n",
        "n = int(input())\n",
        "b = list(map(int, input().split()))\n",
        "b = set(b)\n",
        "\n",
        "diff = sorted(sorted(a.difference(b)) + sorted(b.difference(a)))\n",
        "\n",
        "for i in diff:\n",
        "    print(i)"
      ],
      "execution_count": 8,
      "outputs": [
        {
          "output_type": "stream",
          "text": [
            "4\n",
            "2 4 5 9\n",
            "4\n",
            "-2 4 11 12\n",
            "-2\n",
            "2\n",
            "5\n",
            "9\n",
            "11\n",
            "12\n"
          ],
          "name": "stdout"
        }
      ]
    },
    {
      "cell_type": "markdown",
      "metadata": {
        "id": "r_xXcHuwkrAj"
      },
      "source": [
        "# Problem 10\n",
        "Set .add()"
      ]
    },
    {
      "cell_type": "code",
      "metadata": {
        "colab": {
          "base_uri": "https://localhost:8080/"
        },
        "id": "OqaLcfVIodSJ",
        "outputId": "aa356974-e793-4cce-9541-f07cf16b2e08"
      },
      "source": [
        "n = int(input())\n",
        "stamps = set()\n",
        "for i in range(n):\n",
        "    stamps.add(input())\n",
        "print(len(stamps))"
      ],
      "execution_count": 11,
      "outputs": [
        {
          "output_type": "stream",
          "text": [
            "7\n",
            "UK\n",
            "France\n",
            "USA\n",
            "China\n",
            "France\n",
            "New Zealand\n",
            "UK\n",
            "5\n"
          ],
          "name": "stdout"
        }
      ]
    },
    {
      "cell_type": "markdown",
      "metadata": {
        "id": "vupIzZjJm3fu"
      },
      "source": [
        "# Problem 11\n",
        "Set .discard(), .remove() & .pop()"
      ]
    },
    {
      "cell_type": "code",
      "metadata": {
        "colab": {
          "base_uri": "https://localhost:8080/"
        },
        "id": "tWOZHPSgmrJL",
        "outputId": "90591ea4-9203-4a1f-c909-a554cfbc218a"
      },
      "source": [
        "n = int(input())\n",
        "s = set(map(int, input().split()))\n",
        "N = int(input())\n",
        "for i in range(N):\n",
        "    str = input()\n",
        "    command = str.split()[0]\n",
        "    if command == 'pop':\n",
        "        s.pop()\n",
        "    elif command == 'remove':\n",
        "        if int(str.split()[1]) in s:\n",
        "            s.remove(int(str.split()[1]))\n",
        "        else:\n",
        "            print(str.split()[1] + ' not present in the set')\n",
        "    elif command == 'discard':\n",
        "        s.discard(int(str.split()[1]))\n",
        "    else:\n",
        "        print('Wrong command')\n",
        "print(sum(s))"
      ],
      "execution_count": 13,
      "outputs": [
        {
          "output_type": "stream",
          "text": [
            "9\n",
            "1 2 3 4 5 6 7 8 9 \n",
            "10\n",
            "pop\n",
            "remove 9\n",
            "discard 9\n",
            "discard 8\n",
            "remove 7\n",
            "pop\n",
            "discard 6\n",
            "remove 5\n",
            "pop\n",
            "discard 5\n",
            "4\n"
          ],
          "name": "stdout"
        }
      ]
    },
    {
      "cell_type": "markdown",
      "metadata": {
        "id": "hYdKN9FvvrzC"
      },
      "source": [
        "# Problem 12\n",
        "Set .union() operation"
      ]
    },
    {
      "cell_type": "code",
      "metadata": {
        "colab": {
          "base_uri": "https://localhost:8080/"
        },
        "id": "OB94STtcvrCB",
        "outputId": "1be54e9a-c1eb-49db-bc1f-f90d177f7b0e"
      },
      "source": [
        "ne = int(input())\n",
        "e = set(map(int, input().split()))\n",
        "nf = int(input())\n",
        "f = set(map(int, input().split()))\n",
        "\n",
        "e_union_f = e | f\n",
        "print(len(e_union_f))"
      ],
      "execution_count": 14,
      "outputs": [
        {
          "output_type": "stream",
          "text": [
            "9\n",
            "1 2 3 4 5 6 7 8 9\n",
            "9\n",
            "10 1 2 3 11 21 55 6 8\n",
            "13\n"
          ],
          "name": "stdout"
        }
      ]
    },
    {
      "cell_type": "markdown",
      "metadata": {
        "id": "KPugZ9tmws9z"
      },
      "source": [
        "# Problem 13\n",
        "Set .intersection() operation"
      ]
    },
    {
      "cell_type": "code",
      "metadata": {
        "colab": {
          "base_uri": "https://localhost:8080/"
        },
        "id": "l_c02Z0LvVWU",
        "outputId": "55e0a469-374f-4c37-9f07-9c7db9b6ac3c"
      },
      "source": [
        "ne = int(input())\n",
        "e = set(map(int, input().split()))\n",
        "nf = int(input())\n",
        "f = set(map(int, input().split()))\n",
        "\n",
        "e_intersection_f = e & f\n",
        "print(len(e_intersection_f))"
      ],
      "execution_count": 15,
      "outputs": [
        {
          "output_type": "stream",
          "text": [
            "9\n",
            "1 2 3 4 5 6 7 8 9\n",
            "9\n",
            "10 1 2 3 11 21 55 6 8\n",
            "5\n"
          ],
          "name": "stdout"
        }
      ]
    },
    {
      "cell_type": "markdown",
      "metadata": {
        "id": "7J9EZt-TxnOm"
      },
      "source": [
        "# Problem 14\n",
        "Set .difference() operation"
      ]
    },
    {
      "cell_type": "code",
      "metadata": {
        "colab": {
          "base_uri": "https://localhost:8080/"
        },
        "id": "4lksePTzxdOo",
        "outputId": "d22e9f75-6f07-4cee-c560-120157685d92"
      },
      "source": [
        "ne = int(input())\n",
        "e = set(map(int, input().split()))\n",
        "nf = int(input())\n",
        "f = set(map(int, input().split()))\n",
        "\n",
        "e_difference_f = e - f\n",
        "print(len(e_difference_f))"
      ],
      "execution_count": 16,
      "outputs": [
        {
          "output_type": "stream",
          "text": [
            "9\n",
            "1 2 3 4 5 6 7 8 9\n",
            "9\n",
            "10 1 2 3 11 21 55 6 8\n",
            "4\n"
          ],
          "name": "stdout"
        }
      ]
    },
    {
      "cell_type": "markdown",
      "metadata": {
        "id": "Vl7VcT2Nybtz"
      },
      "source": [
        "# Problem 15\n",
        "Set .symmetric_difference() operation"
      ]
    },
    {
      "cell_type": "code",
      "metadata": {
        "colab": {
          "base_uri": "https://localhost:8080/"
        },
        "id": "UgfJE76wyQUy",
        "outputId": "4444fab3-19cb-44d0-a1e3-988a9d05cfee"
      },
      "source": [
        "ne = int(input())\n",
        "e  = set(map(int, input().split()))\n",
        "nf = int(input())\n",
        "f = set(map(int, input().split()))\n",
        "\n",
        "e_sym_diff_f = e ^ f\n",
        "print(len(e_sym_diff_f))"
      ],
      "execution_count": 17,
      "outputs": [
        {
          "output_type": "stream",
          "text": [
            "9\n",
            "1 2 3 4 5 6 7 8 9\n",
            "9\n",
            "10 1 2 3 11 21 55 6 8\n",
            "8\n"
          ],
          "name": "stdout"
        }
      ]
    },
    {
      "cell_type": "markdown",
      "metadata": {
        "id": "n_jMxENIzvrG"
      },
      "source": [
        "# Problem 16\n",
        "Set Mutations"
      ]
    },
    {
      "cell_type": "code",
      "metadata": {
        "colab": {
          "base_uri": "https://localhost:8080/"
        },
        "id": "4G-B4ga9zkPF",
        "outputId": "7ecec4f0-363a-422a-adc4-a8b14b7e6f1a"
      },
      "source": [
        "n = int(input())\n",
        "A = set(map(int, input().split()))\n",
        "N = int(input())\n",
        "for i in range(N):\n",
        "    str = input()\n",
        "    command = str.split()[0]\n",
        "    B = set(map(int, input().split()))\n",
        "    if command == 'intersection_update':\n",
        "        A &= B\n",
        "    elif command == 'update':\n",
        "        A |= B\n",
        "    elif command == 'symmetric_difference_update':\n",
        "        A ^= B\n",
        "    elif command == 'difference_update':\n",
        "        A -= B\n",
        "    else:\n",
        "        print('Wrong command')\n",
        "print(sum(A)) "
      ],
      "execution_count": 19,
      "outputs": [
        {
          "output_type": "stream",
          "text": [
            "16\n",
            "1 2 3 4 5 6 7 8 9 10 11 12 13 14 24 52\n",
            "4\n",
            "intersection_update 10\n",
            "2 3 5 6 8 9 1 4 7 11\n",
            "update 2\n",
            "55 66\n",
            "symmetric_difference_update 5\n",
            "22 7 35 62 58\n",
            "difference_update 7\n",
            "11 22 35 55 58 62 66\n",
            "38\n"
          ],
          "name": "stdout"
        }
      ]
    },
    {
      "cell_type": "markdown",
      "metadata": {
        "id": "gbW8lyhe7I2c"
      },
      "source": [
        "# Problem 17\n",
        "The Captain's Room"
      ]
    },
    {
      "cell_type": "code",
      "metadata": {
        "colab": {
          "base_uri": "https://localhost:8080/"
        },
        "id": "eqVTLScd6OU-",
        "outputId": "85796d5f-74f9-4447-cb99-61b8a471599b"
      },
      "source": [
        "k = int(input())\n",
        "rooms = list(map(int, input().split()))\n",
        "\n",
        "captain = set()\n",
        "groups = set()\n",
        "\n",
        "for i in rooms:\n",
        "    if i in captain:\n",
        "        groups.add(i)\n",
        "    else:\n",
        "        captain.add(i)\n",
        "print(captain.difference(groups).pop())"
      ],
      "execution_count": 20,
      "outputs": [
        {
          "output_type": "stream",
          "text": [
            "5\n",
            " 1 2 3 6 5 4 4 2 5 3 6 1 6 5 3 2 4 1 2 5 1 4 3 6 8 4 3 1 5 6 2\n",
            "8\n"
          ],
          "name": "stdout"
        }
      ]
    },
    {
      "cell_type": "markdown",
      "metadata": {
        "id": "k4eS6uTVOkeQ"
      },
      "source": [
        "# Problem 18\n",
        "Check Subset"
      ]
    },
    {
      "cell_type": "code",
      "metadata": {
        "colab": {
          "base_uri": "https://localhost:8080/"
        },
        "id": "AV2A5666Oc4I",
        "outputId": "ed828a8d-8634-4cb8-aed2-dbfdf749537b"
      },
      "source": [
        "T = int(input())\n",
        "for i in range(T):\n",
        "    na = int(input())\n",
        "    A = set(map(int, input().split()))\n",
        "    nb = int(input())\n",
        "    B = set(map(int, input().split()))\n",
        "    if len(A & B) == len(A):\n",
        "        print('True')\n",
        "    else:\n",
        "        print('False')\n",
        "        \n",
        "3\n",
        "5\n",
        "1 2 3 5 6\n",
        "9\n",
        "9 8 5 6 3 2 1 4 7\n",
        "1\n",
        "2\n",
        "5\n",
        "3 6 5 4 1\n",
        "7\n",
        "1 2 3 5 6 8 9\n",
        "3\n",
        "9 8 2"
      ],
      "execution_count": 21,
      "outputs": [
        {
          "output_type": "stream",
          "text": [
            "3\n",
            "5\n",
            "1 2 3 5 6\n",
            "9\n",
            "9 8 5 6 3 2 1 4 7\n",
            "True\n",
            "1\n",
            "2\n",
            "5\n",
            "3 6 5 4 1\n",
            "7\n",
            "False\n",
            "1 2 3 5 6 8 9\n",
            "3\n",
            "9 8 2\n",
            "False\n"
          ],
          "name": "stdout"
        }
      ]
    },
    {
      "cell_type": "markdown",
      "metadata": {
        "id": "Oi8PzVrpTVu-"
      },
      "source": [
        "# Problem 19 \n",
        "Check Strict Superset"
      ]
    },
    {
      "cell_type": "code",
      "metadata": {
        "colab": {
          "base_uri": "https://localhost:8080/"
        },
        "id": "LGIgC7QyRNod",
        "outputId": "bf0d94e1-f4f8-4a80-c4cf-d7331e264eb0"
      },
      "source": [
        "A = set(map(int, input().split()))\n",
        "n = int(input())\n",
        "\n",
        "result = 0\n",
        "for i in range(n):\n",
        "    N = set(map(int, input().split()))\n",
        "    if len(A.intersection(N)) != len(N) or len(A) <= len(N):\n",
        "        result += 1\n",
        "if result > 0:\n",
        "    print('False')\n",
        "else:\n",
        "    print('True')"
      ],
      "execution_count": 22,
      "outputs": [
        {
          "output_type": "stream",
          "text": [
            "1 2 3 4 5 6 7 8 9 10 11 12 23 45 84 78\n",
            "2\n",
            "1 2 3 4 5\n",
            "100 11 12\n",
            "False\n"
          ],
          "name": "stdout"
        }
      ]
    }
  ]
}