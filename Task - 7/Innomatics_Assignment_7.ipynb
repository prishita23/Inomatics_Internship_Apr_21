{
  "nbformat": 4,
  "nbformat_minor": 0,
  "metadata": {
    "colab": {
      "name": "Innomatics Assignment 7.ipynb",
      "provenance": [],
      "collapsed_sections": []
    },
    "kernelspec": {
      "name": "python3",
      "display_name": "Python 3"
    },
    "language_info": {
      "name": "python"
    }
  },
  "cells": [
    {
      "cell_type": "markdown",
      "metadata": {
        "id": "3s-EqKvhcnlo"
      },
      "source": [
        "# DESCRIPTIVE STATISTICS"
      ]
    },
    {
      "cell_type": "code",
      "metadata": {
        "id": "rQYUIGFqS-sa"
      },
      "source": [
        "import numpy as np\n",
        "import pandas as pd\n",
        "import matplotlib.pyplot as plt\n",
        "import statsmodels.api as sm\n",
        "from scipy import stats\n",
        "import pylab as py\n",
        "import seaborn as sns\n",
        "import scipy\n",
        "import math"
      ],
      "execution_count": 16,
      "outputs": []
    },
    {
      "cell_type": "code",
      "metadata": {
        "id": "PAlDB0LlS9Ev"
      },
      "source": [
        "data = pd.read_csv('data.csv')"
      ],
      "execution_count": 2,
      "outputs": []
    },
    {
      "cell_type": "code",
      "metadata": {
        "colab": {
          "base_uri": "https://localhost:8080/",
          "height": 215
        },
        "id": "2i-ampHbTE5_",
        "outputId": "3a60dd6e-9536-43dc-cee4-ce98000eb757"
      },
      "source": [
        "data.head()"
      ],
      "execution_count": null,
      "outputs": [
        {
          "output_type": "execute_result",
          "data": {
            "text/html": [
              "<div>\n",
              "<style scoped>\n",
              "    .dataframe tbody tr th:only-of-type {\n",
              "        vertical-align: middle;\n",
              "    }\n",
              "\n",
              "    .dataframe tbody tr th {\n",
              "        vertical-align: top;\n",
              "    }\n",
              "\n",
              "    .dataframe thead th {\n",
              "        text-align: right;\n",
              "    }\n",
              "</style>\n",
              "<table border=\"1\" class=\"dataframe\">\n",
              "  <thead>\n",
              "    <tr style=\"text-align: right;\">\n",
              "      <th></th>\n",
              "      <th>Mthly_HH_Income</th>\n",
              "      <th>Mthly_HH_Expense</th>\n",
              "      <th>No_of_Fly_Members</th>\n",
              "      <th>Emi_or_Rent_Amt</th>\n",
              "      <th>Annual_HH_Income</th>\n",
              "      <th>Highest_Qualified_Member</th>\n",
              "      <th>No_of_Earning_Members</th>\n",
              "    </tr>\n",
              "  </thead>\n",
              "  <tbody>\n",
              "    <tr>\n",
              "      <th>0</th>\n",
              "      <td>5000</td>\n",
              "      <td>8000</td>\n",
              "      <td>3</td>\n",
              "      <td>2000</td>\n",
              "      <td>64200</td>\n",
              "      <td>Under-Graduate</td>\n",
              "      <td>1</td>\n",
              "    </tr>\n",
              "    <tr>\n",
              "      <th>1</th>\n",
              "      <td>6000</td>\n",
              "      <td>7000</td>\n",
              "      <td>2</td>\n",
              "      <td>3000</td>\n",
              "      <td>79920</td>\n",
              "      <td>Illiterate</td>\n",
              "      <td>1</td>\n",
              "    </tr>\n",
              "    <tr>\n",
              "      <th>2</th>\n",
              "      <td>10000</td>\n",
              "      <td>4500</td>\n",
              "      <td>2</td>\n",
              "      <td>0</td>\n",
              "      <td>112800</td>\n",
              "      <td>Under-Graduate</td>\n",
              "      <td>1</td>\n",
              "    </tr>\n",
              "    <tr>\n",
              "      <th>3</th>\n",
              "      <td>10000</td>\n",
              "      <td>2000</td>\n",
              "      <td>1</td>\n",
              "      <td>0</td>\n",
              "      <td>97200</td>\n",
              "      <td>Illiterate</td>\n",
              "      <td>1</td>\n",
              "    </tr>\n",
              "    <tr>\n",
              "      <th>4</th>\n",
              "      <td>12500</td>\n",
              "      <td>12000</td>\n",
              "      <td>2</td>\n",
              "      <td>3000</td>\n",
              "      <td>147000</td>\n",
              "      <td>Graduate</td>\n",
              "      <td>1</td>\n",
              "    </tr>\n",
              "  </tbody>\n",
              "</table>\n",
              "</div>"
            ],
            "text/plain": [
              "   Mthly_HH_Income  ...  No_of_Earning_Members\n",
              "0             5000  ...                      1\n",
              "1             6000  ...                      1\n",
              "2            10000  ...                      1\n",
              "3            10000  ...                      1\n",
              "4            12500  ...                      1\n",
              "\n",
              "[5 rows x 7 columns]"
            ]
          },
          "metadata": {
            "tags": []
          },
          "execution_count": 3
        }
      ]
    },
    {
      "cell_type": "code",
      "metadata": {
        "colab": {
          "base_uri": "https://localhost:8080/"
        },
        "id": "6kNvATOATHgc",
        "outputId": "0577e3ca-a2b4-4fb9-e3a6-191adfc348ba"
      },
      "source": [
        "data.info()"
      ],
      "execution_count": null,
      "outputs": [
        {
          "output_type": "stream",
          "text": [
            "<class 'pandas.core.frame.DataFrame'>\n",
            "RangeIndex: 50 entries, 0 to 49\n",
            "Data columns (total 7 columns):\n",
            " #   Column                    Non-Null Count  Dtype \n",
            "---  ------                    --------------  ----- \n",
            " 0   Mthly_HH_Income           50 non-null     int64 \n",
            " 1   Mthly_HH_Expense          50 non-null     int64 \n",
            " 2   No_of_Fly_Members         50 non-null     int64 \n",
            " 3   Emi_or_Rent_Amt           50 non-null     int64 \n",
            " 4   Annual_HH_Income          50 non-null     int64 \n",
            " 5   Highest_Qualified_Member  50 non-null     object\n",
            " 6   No_of_Earning_Members     50 non-null     int64 \n",
            "dtypes: int64(6), object(1)\n",
            "memory usage: 2.9+ KB\n"
          ],
          "name": "stdout"
        }
      ]
    },
    {
      "cell_type": "code",
      "metadata": {
        "colab": {
          "base_uri": "https://localhost:8080/",
          "height": 304
        },
        "id": "OmYJFnTITKos",
        "outputId": "a753b30b-3105-4b79-8dcb-e6682afba971"
      },
      "source": [
        "data.describe()"
      ],
      "execution_count": null,
      "outputs": [
        {
          "output_type": "execute_result",
          "data": {
            "text/html": [
              "<div>\n",
              "<style scoped>\n",
              "    .dataframe tbody tr th:only-of-type {\n",
              "        vertical-align: middle;\n",
              "    }\n",
              "\n",
              "    .dataframe tbody tr th {\n",
              "        vertical-align: top;\n",
              "    }\n",
              "\n",
              "    .dataframe thead th {\n",
              "        text-align: right;\n",
              "    }\n",
              "</style>\n",
              "<table border=\"1\" class=\"dataframe\">\n",
              "  <thead>\n",
              "    <tr style=\"text-align: right;\">\n",
              "      <th></th>\n",
              "      <th>Mthly_HH_Income</th>\n",
              "      <th>Mthly_HH_Expense</th>\n",
              "      <th>No_of_Fly_Members</th>\n",
              "      <th>Emi_or_Rent_Amt</th>\n",
              "      <th>Annual_HH_Income</th>\n",
              "      <th>No_of_Earning_Members</th>\n",
              "    </tr>\n",
              "  </thead>\n",
              "  <tbody>\n",
              "    <tr>\n",
              "      <th>count</th>\n",
              "      <td>50.000000</td>\n",
              "      <td>50.000000</td>\n",
              "      <td>50.000000</td>\n",
              "      <td>50.000000</td>\n",
              "      <td>5.000000e+01</td>\n",
              "      <td>50.000000</td>\n",
              "    </tr>\n",
              "    <tr>\n",
              "      <th>mean</th>\n",
              "      <td>41558.000000</td>\n",
              "      <td>18818.000000</td>\n",
              "      <td>4.060000</td>\n",
              "      <td>3060.000000</td>\n",
              "      <td>4.900190e+05</td>\n",
              "      <td>1.460000</td>\n",
              "    </tr>\n",
              "    <tr>\n",
              "      <th>std</th>\n",
              "      <td>26097.908979</td>\n",
              "      <td>12090.216824</td>\n",
              "      <td>1.517382</td>\n",
              "      <td>6241.434948</td>\n",
              "      <td>3.201358e+05</td>\n",
              "      <td>0.734291</td>\n",
              "    </tr>\n",
              "    <tr>\n",
              "      <th>min</th>\n",
              "      <td>5000.000000</td>\n",
              "      <td>2000.000000</td>\n",
              "      <td>1.000000</td>\n",
              "      <td>0.000000</td>\n",
              "      <td>6.420000e+04</td>\n",
              "      <td>1.000000</td>\n",
              "    </tr>\n",
              "    <tr>\n",
              "      <th>25%</th>\n",
              "      <td>23550.000000</td>\n",
              "      <td>10000.000000</td>\n",
              "      <td>3.000000</td>\n",
              "      <td>0.000000</td>\n",
              "      <td>2.587500e+05</td>\n",
              "      <td>1.000000</td>\n",
              "    </tr>\n",
              "    <tr>\n",
              "      <th>50%</th>\n",
              "      <td>35000.000000</td>\n",
              "      <td>15500.000000</td>\n",
              "      <td>4.000000</td>\n",
              "      <td>0.000000</td>\n",
              "      <td>4.474200e+05</td>\n",
              "      <td>1.000000</td>\n",
              "    </tr>\n",
              "    <tr>\n",
              "      <th>75%</th>\n",
              "      <td>50375.000000</td>\n",
              "      <td>25000.000000</td>\n",
              "      <td>5.000000</td>\n",
              "      <td>3500.000000</td>\n",
              "      <td>5.947200e+05</td>\n",
              "      <td>2.000000</td>\n",
              "    </tr>\n",
              "    <tr>\n",
              "      <th>max</th>\n",
              "      <td>100000.000000</td>\n",
              "      <td>50000.000000</td>\n",
              "      <td>7.000000</td>\n",
              "      <td>35000.000000</td>\n",
              "      <td>1.404000e+06</td>\n",
              "      <td>4.000000</td>\n",
              "    </tr>\n",
              "  </tbody>\n",
              "</table>\n",
              "</div>"
            ],
            "text/plain": [
              "       Mthly_HH_Income  ...  No_of_Earning_Members\n",
              "count        50.000000  ...              50.000000\n",
              "mean      41558.000000  ...               1.460000\n",
              "std       26097.908979  ...               0.734291\n",
              "min        5000.000000  ...               1.000000\n",
              "25%       23550.000000  ...               1.000000\n",
              "50%       35000.000000  ...               1.000000\n",
              "75%       50375.000000  ...               2.000000\n",
              "max      100000.000000  ...               4.000000\n",
              "\n",
              "[8 rows x 6 columns]"
            ]
          },
          "metadata": {
            "tags": []
          },
          "execution_count": 5
        }
      ]
    },
    {
      "cell_type": "markdown",
      "metadata": {
        "id": "ZUKcDN5fOsrf"
      },
      "source": [
        "## Central Tendency\n",
        "Central tendency refers to the concept that there is a particular number that can best summarise an entire dataset of measurements, a number which is in some way \"central\" to the set.  \n",
        "## Mean\n",
        "Mean, or more commonly called as average, is a central tendency of a dataset, i.e. a number around which a whole data is spread out.  \n",
        "In order to calculate the mean of a set of number we simply divide the sum of the numbers by the total number of data points. In other words it is the sum of the number divided by the count.\n",
        "\n",
        "$$\n",
        "Mean =\\frac{ \\sum_{i=1}^{n} x}{n}\n",
        "$$"
      ]
    },
    {
      "cell_type": "code",
      "metadata": {
        "colab": {
          "base_uri": "https://localhost:8080/"
        },
        "id": "5WhPRMvpOaD5",
        "outputId": "d57478ee-9fa9-44a0-a1bc-4f601da92790"
      },
      "source": [
        "data['Mthly_HH_Income'].mean()"
      ],
      "execution_count": null,
      "outputs": [
        {
          "output_type": "execute_result",
          "data": {
            "text/plain": [
              "41558.0"
            ]
          },
          "metadata": {
            "tags": []
          },
          "execution_count": 9
        }
      ]
    },
    {
      "cell_type": "markdown",
      "metadata": {
        "id": "o5ICtRJcTdqt"
      },
      "source": [
        "In the cell above we have calculated the mean for the column \"Mthly_HH_Income\" using the mean()  \n",
        "This can also be done by making use of a for loop in the following manner:"
      ]
    },
    {
      "cell_type": "code",
      "metadata": {
        "colab": {
          "base_uri": "https://localhost:8080/"
        },
        "id": "fHh6VuotTs1b",
        "outputId": "cf2daae3-d5ee-4c70-a621-c49c15c89357"
      },
      "source": [
        "sum = 0\n",
        "for i in range(len(data['Mthly_HH_Income'])):\n",
        "  sum += data['Mthly_HH_Income'][i]\n",
        "mean = sum/len(data['Mthly_HH_Income'])\n",
        "print(mean)"
      ],
      "execution_count": null,
      "outputs": [
        {
          "output_type": "stream",
          "text": [
            "41558.0\n"
          ],
          "name": "stdout"
        }
      ]
    },
    {
      "cell_type": "markdown",
      "metadata": {
        "id": "It1kEMZ4S3Gi"
      },
      "source": [
        "## Median\n",
        "The median is the value which divvides the data in 2 equal parts i.e. the number of terms on the right of the data point is equal to the number of terms to the left of it, provided that the data is arranged in either the ascending or the descending order.  \n",
        "However, sorting the data in descending affects the Inter Quartile Range, making it negative, although it will have no effect on the median value.  \n",
        "The median will be the middle term when the total number of terms is odd.  \n",
        "While it will be the mean of the 2 middle terms when the total number of terms in even.\n",
        "\n",
        "$$\n",
        "Median = \\frac{(N + 1)}{2}^{th} term; for N = odd  \\\\\n",
        "Median = \\frac{\\frac{N}{2}^{th} term + (\\frac{N}{2} + 1)^{th} term}{2}; for N = even\n",
        "$$\n",
        "\n",
        "Another important thing to note is that when the values of the dataset are in arithmetic progression the **median is always eual to the mean**. "
      ]
    },
    {
      "cell_type": "code",
      "metadata": {
        "colab": {
          "base_uri": "https://localhost:8080/"
        },
        "id": "WLIyFTfOX6PK",
        "outputId": "6c4afc45-2c89-40f3-bc92-9e4a7a572c51"
      },
      "source": [
        "data['No_of_Fly_Members'].median()"
      ],
      "execution_count": null,
      "outputs": [
        {
          "output_type": "execute_result",
          "data": {
            "text/plain": [
              "4.0"
            ]
          },
          "metadata": {
            "tags": []
          },
          "execution_count": 13
        }
      ]
    },
    {
      "cell_type": "markdown",
      "metadata": {
        "id": "NURxkNTrYNlJ"
      },
      "source": [
        "The above line of code gives us the median for the colum \"No_of_Fly_Members\".  \n",
        "Another to find the median without using the median() is as follows:"
      ]
    },
    {
      "cell_type": "code",
      "metadata": {
        "colab": {
          "base_uri": "https://localhost:8080/"
        },
        "id": "FNL_KnwmYM1B",
        "outputId": "f769b197-ea99-4a21-eb25-c8aef135432b"
      },
      "source": [
        "length = len(data['No_of_Fly_Members'])\n",
        "if length % 2 == 0:\n",
        "  median = (data['No_of_Fly_Members'][length//2] + data['No_of_Fly_Members'][(length//2) + 1])/2\n",
        "else:\n",
        "  median = data['No_of_Fly_Members'][(length + 1)//2]\n",
        "print(median)"
      ],
      "execution_count": null,
      "outputs": [
        {
          "output_type": "stream",
          "text": [
            "4.0\n"
          ],
          "name": "stdout"
        }
      ]
    },
    {
      "cell_type": "markdown",
      "metadata": {
        "id": "dND2e3EmY-P8"
      },
      "source": [
        "## Mode\n",
        "Mode is the term appearing the most in a dataset i.e. a term with the highest frequency.  \n",
        "There could however be a possibility that a particular dataset has no mode since all the values in the dataset appear equal number of times.  \n",
        "If 2 values appear equal number of times which is more than the number of times any other value appears in a dataset, then such a dataset is **bimodal**.  \n",
        "If 3 values appeared the same number of times and more than the rest of the values, then such a dataset is **trimodal**.  \n",
        "For n modes, that dataset is **multimodal**.\n",
        "\n",
        "$$\n",
        "Mode = The\\,value\\,in\\,the\\,data\\,that\\,occurs\\,most\\,frequently\n",
        "$$"
      ]
    },
    {
      "cell_type": "code",
      "metadata": {
        "colab": {
          "base_uri": "https://localhost:8080/"
        },
        "id": "Vz9JjlDPcOGe",
        "outputId": "986b1d22-a490-46ee-beba-69b1b9d79682"
      },
      "source": [
        "data['Emi_or_Rent_Amt'].mode()[0]"
      ],
      "execution_count": null,
      "outputs": [
        {
          "output_type": "execute_result",
          "data": {
            "text/plain": [
              "0"
            ]
          },
          "metadata": {
            "tags": []
          },
          "execution_count": 25
        }
      ]
    },
    {
      "cell_type": "code",
      "metadata": {
        "colab": {
          "base_uri": "https://localhost:8080/"
        },
        "id": "L_paZSADY6G5",
        "outputId": "be69d475-a79c-4fff-8946-18f9a94ac4f4"
      },
      "source": [
        "data['Emi_or_Rent_Amt'].value_counts()"
      ],
      "execution_count": null,
      "outputs": [
        {
          "output_type": "execute_result",
          "data": {
            "text/plain": [
              "0        30\n",
              "3500      3\n",
              "3000      2\n",
              "10000     2\n",
              "8000      2\n",
              "12000     2\n",
              "2000      2\n",
              "5000      2\n",
              "1000      1\n",
              "20000     1\n",
              "4000      1\n",
              "35000     1\n",
              "2500      1\n",
              "Name: Emi_or_Rent_Amt, dtype: int64"
            ]
          },
          "metadata": {
            "tags": []
          },
          "execution_count": 24
        }
      ]
    },
    {
      "cell_type": "markdown",
      "metadata": {
        "id": "ptk-TvaycRCv"
      },
      "source": [
        "The above lines of code tell us that the value 0 is the most common value in the column \"Emi_or_Rent_Amt\"."
      ]
    },
    {
      "cell_type": "markdown",
      "metadata": {
        "id": "T27zo55ZcaSq"
      },
      "source": [
        "## Measure of Spread / Dispersion\n",
        "Measure of Spread refers to the idea of variability within a given dataset.  \n",
        "#Standard Deviation\n",
        "Standard Deviation is the measure of the average distance between each quantity and the mean. This tells us how the data is spread out from the mean.  \n",
        " A low standard deviation indicates that the data points tend to be close to the mean of the data set, while a high standard deviation indicates that the data points are spread out over a wider range of values.  \n",
        "When we are asked to find the standard deviation of a part of a population, then we make use of sample Standard Deviation.\n",
        "$$\n",
        "Standard Deviation = \\sqrt{\\frac{1}{n-1}\\sum_{i=0}^{n}(x_i-Mean)^{2}}\n",
        "$$\n",
        "Here, we are taking into account the mean of the sample.  \n",
        "But when have to deal with a whole population, then we use population Standard Deviation.\n",
        "$$\n",
        "Standar Deviation = \\sqrt{\\frac{1}{n}\\sum_{i=0}^{n}(x_i - Mean)^{2}}\n",
        "$$\n",
        "Here, we are taking into account the Mean of the entire population."
      ]
    },
    {
      "cell_type": "code",
      "metadata": {
        "colab": {
          "base_uri": "https://localhost:8080/"
        },
        "id": "JnEYHZ6gcZpS",
        "outputId": "ca0b89ab-a918-45d6-a994-b8abeca31e73"
      },
      "source": [
        "data['Emi_or_Rent_Amt'].std()"
      ],
      "execution_count": null,
      "outputs": [
        {
          "output_type": "execute_result",
          "data": {
            "text/plain": [
              "6241.434947516607"
            ]
          },
          "metadata": {
            "tags": []
          },
          "execution_count": 26
        }
      ]
    },
    {
      "cell_type": "markdown",
      "metadata": {
        "id": "wkpgYpK9iObW"
      },
      "source": [
        "The above line of code gives us the value of the standard deviation for the column \"Emi_or_Rent_Amt\" using the std().  \n",
        "The following ode shows us how to calculate the standard deviatin without the std()."
      ]
    },
    {
      "cell_type": "code",
      "metadata": {
        "colab": {
          "base_uri": "https://localhost:8080/"
        },
        "id": "EEJVx7YGbmE3",
        "outputId": "b43b2d11-1fe9-4f02-c7a0-d301f1792611"
      },
      "source": [
        "n = len(data['Emi_or_Rent_Amt'])\n",
        "sum = 0\n",
        "for i in range(length):\n",
        "  sum += data['Emi_or_Rent_Amt'][i]\n",
        "mean = sum / length\n",
        "diff_square = 0\n",
        "for i in range(length):\n",
        "  diff_square += (data['Emi_or_Rent_Amt'][i] - mean) ** 2\n",
        "std = math.sqrt(diff_square / (length-1))\n",
        "print(std)"
      ],
      "execution_count": null,
      "outputs": [
        {
          "output_type": "stream",
          "text": [
            "6241.434947516607\n"
          ],
          "name": "stdout"
        }
      ]
    },
    {
      "cell_type": "markdown",
      "metadata": {
        "id": "OrjxQQQIi6L4"
      },
      "source": [
        "## Variance\n",
        "Variance is the square of the average distance between each quantity and the mean. That is, it is the square of the standard deviation.\n",
        "$$\n",
        "Variance = (Standard Deviation)^2\\\\\n",
        "OR\\\\\n",
        "Variance = \\frac{1}{n}\\sum_{i=0}^{n}(x - Mean)^2\n",
        "$$"
      ]
    },
    {
      "cell_type": "code",
      "metadata": {
        "colab": {
          "base_uri": "https://localhost:8080/"
        },
        "id": "VSTEJmOQgwEx",
        "outputId": "b690bd17-c185-4847-afa7-380c8b1fd9bf"
      },
      "source": [
        "data['Mthly_HH_Expense'].var()"
      ],
      "execution_count": null,
      "outputs": [
        {
          "output_type": "execute_result",
          "data": {
            "text/plain": [
              "146173342.85714287"
            ]
          },
          "metadata": {
            "tags": []
          },
          "execution_count": 40
        }
      ]
    },
    {
      "cell_type": "markdown",
      "metadata": {
        "id": "47aha61lj1P-"
      },
      "source": [
        "The above line of code gives us the variance for the \"Mthly_HH_Expense\" column by making use of the inbuilt var().  \n",
        "To calculate variance without making use of the inbuilt function we can do as follows:"
      ]
    },
    {
      "cell_type": "code",
      "metadata": {
        "colab": {
          "base_uri": "https://localhost:8080/"
        },
        "id": "TR_vhfi6jqhL",
        "outputId": "627ba615-2299-4086-f4d4-af072a33b34a"
      },
      "source": [
        "n = len(data['Mthly_HH_Expense'])\n",
        "sum = 0\n",
        "for i in range(length):\n",
        "  sum += data['Mthly_HH_Expense'][i]\n",
        "mean = sum / length\n",
        "diff_square = 0\n",
        "for i in range(length):\n",
        "  diff_square += (data['Mthly_HH_Expense'][i] - mean) ** 2\n",
        "variance = (diff_square / (length-1))\n",
        "print(variance)"
      ],
      "execution_count": null,
      "outputs": [
        {
          "output_type": "stream",
          "text": [
            "146173342.85714287\n"
          ],
          "name": "stdout"
        }
      ]
    },
    {
      "cell_type": "markdown",
      "metadata": {
        "id": "Uc_m7JX2kR_E"
      },
      "source": [
        "## Correlation\n",
        "Correlation is a statistical technique which can show whether and how strongly pairs of variables are related. \n",
        "<!-- ![Alt Text](image path \"title\") -->\n",
        "![Alt Text](https://miro.medium.com/max/716/1*P5L0g1YjeRZchbJiFll-0g.jpeg \"Types of Correlations\")  \n",
        "The main result of a correlation is called the **correlation coefficient** or \"r\". It ranges from -1.0 to +1.0. The closer r is to +1 or -1, the more closely the two cariables are related.  \n",
        "If r is close to 0, it means there is no relationship between the variables. If r is positive, it means that as one variable gets larger the other one gets larger. If r is negative it means that as one gets larger, the other one gets smaller (often called an \"inverse\" correlation). "
      ]
    },
    {
      "cell_type": "code",
      "metadata": {
        "colab": {
          "base_uri": "https://localhost:8080/",
          "height": 373
        },
        "id": "V8_ib2rBkJ6n",
        "outputId": "098b4ca5-253d-4003-84f4-63187d5693f4"
      },
      "source": [
        "plt.matshow(data.corr())\n",
        "plt.xticks(range(len(data.columns)), data.columns, rotation = 90)\n",
        "plt.yticks(range(len(data.columns)), data.columns)\n",
        "plt.colorbar()\n",
        "plt.show()"
      ],
      "execution_count": null,
      "outputs": [
        {
          "output_type": "display_data",
          "data": {
            "image/png": "[encoded data removed]",
            "text/plain": [
              "<Figure size 288x288 with 2 Axes>"
            ]
          },
          "metadata": {
            "tags": [],
            "needs_background": "light"
          }
        }
      ]
    },
    {
      "cell_type": "markdown",
      "metadata": {
        "id": "-cu54kOQAUcw"
      },
      "source": [
        "The above is a correlation matrix for the given dataset."
      ]
    },
    {
      "cell_type": "markdown",
      "metadata": {
        "id": "MnOwYXGYsJvs"
      },
      "source": [
        "## Normal Distribution\n",
        "![Alt Text](https://cdn.kastatic.org/ka-perseus-graphie/ab1906e261749f6c28837cd46cf5d8ce8683116a.svg \"Normal Distribution Curve\")  \n",
        "The above is a curve showing a normal distribution.  \n",
        "In probability theory, a normal (or Gaussian) distribution is a type of continuous probability distribution for a real-valued random variable. \n",
        "The general formula of its probability density function is :\n",
        "$$\n",
        "f(x) = \\frac{1}{\\sigma\\sqrt{2\\pi}}e^{-\\frac{1}{2}(\\frac{\\pi-\\mu}{\\sigma})^2}\\\\\n",
        "where\\, \\mu\\, is\\, the\\, mean\\, of\\, the\\, distribution,\\\\ and\\, the\\, parameter\\, \\sigma\\, is\\, its\\, standard\\, deviation.\n",
        "$$\n",
        " A random variable with a Gaussian distribution is said to be **normally distributed**, and is called a **normal deviate**.  \n",
        "Normal distributions are important in statistics and are often used in the natural and social sciences to represent real-valued random variables whose distributions are not known. Their importance is partly due to the central limit theorem. It states that, under some conditions, the average of many samples (observations) of a random variable with finite mean and variance is itself a random variable - whose distribution converges to a normal distribution as the number of samples increases. Therefore, physical quantities that are expected to be the sum of many independent processes, such as measurement errors, often have distributions that are nearly normal. "
      ]
    },
    {
      "cell_type": "markdown",
      "metadata": {
        "id": "No90EU-yAcq-"
      },
      "source": [
        "## Features of Normal Distribution\n",
        "### The Data is Centered about the Mean-Mode-Median\n",
        "* The mean, median and mode of the normal distribution are equal and are located at the center of the curve.\n",
        "  * It is the mean since it is the ARITHMETIC average of all the values.\n",
        "  * It is the mode since of all the values the mean value occurs MOST often.\n",
        "  * It is the median because when the values are displayed from lowest to highest, the mean is the MIDDLE score, the median.\n",
        "* The frequency curve is bell shaped.\n",
        "  * The bell shape has perfect bilateral symmetry - which means that the left balances exactly with the right.\n",
        "  * The value at -2 is balanced by a value at +2 and the frequency from 0 to +2 and from 0 to -2 are equal.\n",
        "  * The are under the curve from 0 to +2 is exactly the same as the area under the curve from 0 to -2.\n",
        "  * Fifty percent of the values are above the mean and 50% of the values are below the mean.\n",
        "* The probability that a value is above the mean is 50% and the probability that the value is below the mean is 50%.\n",
        "* Most of the values are in the middle, about the mean, and few are in the tails, at the extremes.\n",
        "![Alt Text](https://spss-tutorials.com/img/normal-distribution-iq-scores-example-2.png \"Normal Distribution Curve\")  \n",
        "The above graph shows the percentage of data present within different numbers of standard deviations away from the mean."
      ]
    },
    {
      "cell_type": "markdown",
      "metadata": {
        "id": "nlgHWVDTLhCn"
      },
      "source": [
        "## Skewed Distribution\n",
        "If one tail is longer than oanother, the distribution is skewed. These distributions are sometimes called asymmetric or asymmetrical distributions as they do not show any kind of symmetru. Symmetry means that one half of the distribution is a mirror image of the other half. For example, the **normal distribution** is a symmetric distribution with no skew. The tails are exactly the same. \n",
        "\n",
        "### Left Skewed Distribution\n",
        "A **left-skewed distribution** is a distribution which has a long left tail. Left-skewed distributions are also called *negatively-skewed* distributions. This is because there is a long tail in the negative directin on the number line. The mean is also to the left of the peak.\n",
        "![Alt Text](https://www.statisticshowto.com/wp-content/uploads/2015/07/skewed-left.png \"Left-Skewed Distribution Curve\")  \n",
        "\n",
        "### Right Skewed Distribution\n",
        "A **right-skewed distribution** is a distribution which has a long right tail. Right-skewed distributionss are also called positive-skew distributions. This is because there is a long tail in the positive direction on the number line. The mean is also to the right of the peak. \n",
        "![Alt Text](https://psychologyhub.co.uk/ezoimgfmt/i1.wp.com/psychologyhub.co.uk/wp-content/uploads/2018/01/right-skewed-graph.jpg?w=367&is-pending-load=1 \"Left-Skewed Distribution Curve\")  \n",
        "\n",
        "\n",
        "\n",
        "\n"
      ]
    },
    {
      "cell_type": "markdown",
      "metadata": {
        "id": "x6tN3NnLTjPH"
      },
      "source": [
        "## Effect on Mean, Median and Mode due to Skewness\n",
        "### Skewed Left\n",
        "* The mean is to the left of the peak. This is the main definition behind \"skewness\", which is technically a measure of the distribution of values around the mean.\n",
        "* The mean of a left skewed distribution is to the left of the median.\n",
        "* The tail is longer on the left.\n",
        "\n",
        "### Skewed Right\n",
        "* The mean is to the right of the peak. \n",
        "* The mean of a right skewed distribution is to the right of the median.\n",
        "* The tail is longer to the right."
      ]
    },
    {
      "cell_type": "markdown",
      "metadata": {
        "id": "BA7P_BGYV5HS"
      },
      "source": [
        "## QQ Plot (Quantile - Quantile Plot)\n",
        "A Q-Q plot is a scatterplot which is created by plotting two sets of quantiles against one another. The pattern of points in the plot is used to compare the two distributions. If both sets of quantiles came from the same distribution, we should see the points forming a line that is roughly straight.  \n",
        "The main step in constructing a Q-Q plot is calculating or estimating the quantiles to be plotted. If one or both of the axes is a Q-Q plot is bases on a theoretical distribution with a continuous cumulative distribution function (CDF), all quantiles are uniquely defined and can be obtained by inverting the CDF."
      ]
    },
    {
      "cell_type": "code",
      "metadata": {
        "id": "Wn6kD5xwpvFm",
        "colab": {
          "base_uri": "https://localhost:8080/",
          "height": 279
        },
        "outputId": "9d0ab70d-e5ec-4e6c-c75b-0a20c3272397"
      },
      "source": [
        "data_points = np.random.normal(0, 1, 100)    \n",
        "  \n",
        "sm.qqplot(data_points, line ='45')\n",
        "py.show()"
      ],
      "execution_count": 7,
      "outputs": [
        {
          "output_type": "display_data",
          "data": {
            "image/png": "[encoded data removed]",
            "text/plain": [
              "<Figure size 432x288 with 1 Axes>"
            ]
          },
          "metadata": {
            "tags": [],
            "needs_background": "light"
          }
        }
      ]
    },
    {
      "cell_type": "code",
      "metadata": {
        "colab": {
          "base_uri": "https://localhost:8080/",
          "height": 1000
        },
        "id": "SBg_yPMrYpKL",
        "outputId": "681a8335-8ab2-4892-e691-489f567f45d5"
      },
      "source": [
        "measurements = np.random.normal(loc = 20, scale = 5, size=100)\n",
        "\n",
        "scipy.stats.probplot(measurements, dist=\"norm\", plot=plt)"
      ],
      "execution_count": 11,
      "outputs": [
        {
          "output_type": "execute_result",
          "data": {
            "text/plain": [
              "((array([-2.46203784, -2.12570747, -1.93122778, -1.79044653, -1.67819304,\n",
              "         -1.58381122, -1.50174123, -1.42869743, -1.36256869, -1.30191411,\n",
              "         -1.24570419, -1.19317644, -1.14374949, -1.09696931, -1.05247413,\n",
              "         -1.00997067, -0.96921765, -0.93001393, -0.89218993, -0.85560121,\n",
              "         -0.82012357, -0.78564937, -0.75208458, -0.71934648, -0.68736185,\n",
              "         -0.65606548, -0.62539893, -0.59530962, -0.56574992, -0.53667655,\n",
              "         -0.50804994, -0.47983378, -0.45199463, -0.42450149, -0.39732558,\n",
              "         -0.37044003, -0.34381966, -0.31744076, -0.29128096, -0.26531902,\n",
              "         -0.23953472, -0.21390872, -0.18842244, -0.16305799, -0.13779803,\n",
              "         -0.1126257 , -0.08752455, -0.06247843, -0.03747145, -0.01248789,\n",
              "          0.01248789,  0.03747145,  0.06247843,  0.08752455,  0.1126257 ,\n",
              "          0.13779803,  0.16305799,  0.18842244,  0.21390872,  0.23953472,\n",
              "          0.26531902,  0.29128096,  0.31744076,  0.34381966,  0.37044003,\n",
              "          0.39732558,  0.42450149,  0.45199463,  0.47983378,  0.50804994,\n",
              "          0.53667655,  0.56574992,  0.59530962,  0.62539893,  0.65606548,\n",
              "          0.68736185,  0.71934648,  0.75208458,  0.78564937,  0.82012357,\n",
              "          0.85560121,  0.89218993,  0.93001393,  0.96921765,  1.00997067,\n",
              "          1.05247413,  1.09696931,  1.14374949,  1.19317644,  1.24570419,\n",
              "          1.30191411,  1.36256869,  1.42869743,  1.50174123,  1.58381122,\n",
              "          1.67819304,  1.79044653,  1.93122778,  2.12570747,  2.46203784]),\n",
              "  array([ 4.04615038,  5.31764765,  7.34684181,  7.95127993,  9.2822337 ,\n",
              "         10.29502056, 10.67289242, 11.29244828, 12.26959464, 12.41147838,\n",
              "         13.0878647 , 13.32941795, 13.36701913, 13.63561383, 14.29126598,\n",
              "         14.36184282, 14.39410797, 14.40876902, 14.66857328, 14.81935761,\n",
              "         14.87765879, 14.93405938, 14.9787341 , 15.29962666, 15.56770403,\n",
              "         16.06385032, 16.08956556, 16.35301235, 16.39282463, 16.77346136,\n",
              "         17.20817736, 17.27659946, 17.33022135, 17.35417696, 17.57073457,\n",
              "         18.0704127 , 18.2184618 , 18.27469372, 18.37592866, 18.49107776,\n",
              "         18.58053188, 18.77027623, 18.95180225, 19.16777416, 19.3570557 ,\n",
              "         19.60060544, 19.67755298, 19.81714741, 19.87333439, 20.12954505,\n",
              "         20.39937478, 20.58183286, 20.66336922, 20.68422605, 20.88918945,\n",
              "         20.92197286, 20.96378252, 21.17086587, 21.20626675, 21.30154218,\n",
              "         21.43542627, 21.61237413, 21.69907221, 22.09567187, 22.1341765 ,\n",
              "         22.21627971, 22.25617099, 22.42537759, 22.50518768, 22.5182605 ,\n",
              "         22.622983  , 22.86918059, 22.92734945, 22.98379902, 22.99663244,\n",
              "         23.12796557, 23.14091261, 23.71430444, 23.85550448, 24.08103709,\n",
              "         24.10276476, 24.1810658 , 24.21107404, 24.69325475, 24.76201018,\n",
              "         25.13043163, 25.14670209, 25.61950746, 25.71339631, 25.97898921,\n",
              "         26.39475502, 26.66082396, 27.52353913, 27.91217925, 28.38016702,\n",
              "         28.54106922, 28.96296397, 29.29161051, 30.27256151, 32.07773802])),\n",
              " (5.5800639595596015, 19.582327195873237, 0.994406019824519))"
            ]
          },
          "metadata": {
            "tags": []
          },
          "execution_count": 11
        },
        {
          "output_type": "display_data",
          "data": {
            "image/png": "[encoded data removed]",
            "text/plain": [
              "<Figure size 432x288 with 1 Axes>"
            ]
          },
          "metadata": {
            "tags": [],
            "needs_background": "light"
          }
        }
      ]
    },
    {
      "cell_type": "markdown",
      "metadata": {
        "id": "u5EVgkBNZySI"
      },
      "source": [
        "## Box Cox\n",
        "The Box-Cox plot is a tool to help you determine the most appropriate power transformation to apply to response data. Most transformations can be described by the power function.  \n",
        "Here are the commonly used transformation:\n",
        "$$\n",
        "\\lambda = 1 \\, no\\, transformation\\\\\n",
        "\\lambda = 0.5\\, square\\, root\\\\\n",
        "\\lambda = 0\\, natural\\, log\\\\\n",
        "\\lambda = -0.5\\,inverse\\, square\\, root\\\\\n",
        "\\lambda = -1\\, inverse\n",
        "$$\n"
      ]
    },
    {
      "cell_type": "code",
      "metadata": {
        "colab": {
          "base_uri": "https://localhost:8080/",
          "height": 338
        },
        "id": "ay5SpvvhZeGO",
        "outputId": "2b8bd5c6-db50-46a1-ad1d-8878759cb4cc"
      },
      "source": [
        "original_data = np.random.exponential(size = 1000)\n",
        "\n",
        "# transform the original data & save lambda value\n",
        "data,fitted_lambda = stats.boxcox(original_data)\n",
        "\n",
        "# (optional) plot \n",
        "sns.distplot(data)"
      ],
      "execution_count": 20,
      "outputs": [
        {
          "output_type": "stream",
          "text": [
            "/usr/local/lib/python3.7/dist-packages/seaborn/distributions.py:2557: FutureWarning: `distplot` is a deprecated function and will be removed in a future version. Please adapt your code to use either `displot` (a figure-level function with similar flexibility) or `histplot` (an axes-level function for histograms).\n",
            "  warnings.warn(msg, FutureWarning)\n"
          ],
          "name": "stderr"
        },
        {
          "output_type": "execute_result",
          "data": {
            "text/plain": [
              "<matplotlib.axes._subplots.AxesSubplot at 0x7fd3b1c030d0>"
            ]
          },
          "metadata": {
            "tags": []
          },
          "execution_count": 20
        },
        {
          "output_type": "display_data",
          "data": {
            "image/png": "[encoded data removed]",
            "text/plain": [
              "<Figure size 432x288 with 1 Axes>"
            ]
          },
          "metadata": {
            "tags": [],
            "needs_background": "light"
          }
        }
      ]
    },
    {
      "cell_type": "code",
      "metadata": {
        "id": "wCLO-3FGbspf"
      },
      "source": [
        ""
      ],
      "execution_count": null,
      "outputs": []
    }
  ]
}