{
  "nbformat": 4,
  "nbformat_minor": 0,
  "metadata": {
    "colab": {
      "name": "Innomatics Assignment 4.ipynb",
      "provenance": [],
      "collapsed_sections": []
    },
    "kernelspec": {
      "name": "python3",
      "display_name": "Python 3"
    },
    "language_info": {
      "name": "python"
    }
  },
  "cells": [
    {
      "cell_type": "markdown",
      "metadata": {
        "id": "0Q-JZlAPOaaO"
      },
      "source": [
        "# Problem 1\n",
        "sWAP cASE"
      ]
    },
    {
      "cell_type": "code",
      "metadata": {
        "colab": {
          "base_uri": "https://localhost:8080/"
        },
        "id": "sXAf70spNmgT",
        "outputId": "74d7068c-dbc9-4f07-9783-ea00c86fc11f"
      },
      "source": [
        "def swap_case(s):\n",
        "    new_s = ''\n",
        "    for i in s:\n",
        "        if i.islower():\n",
        "            new_s += i.upper()\n",
        "        elif i.isupper():\n",
        "            new_s += i.lower()\n",
        "        else:\n",
        "            new_s += i\n",
        "    return new_s\n",
        "\n",
        "if __name__ == '__main__':\n",
        "    s = input()\n",
        "    result = swap_case(s)\n",
        "    print(result)"
      ],
      "execution_count": 15,
      "outputs": [
        {
          "output_type": "stream",
          "text": [
            "Hello World!\n",
            "hELLO wORLD!\n"
          ],
          "name": "stdout"
        }
      ]
    },
    {
      "cell_type": "markdown",
      "metadata": {
        "id": "nH59ZppHOjVH"
      },
      "source": [
        "# Problem 2\n",
        "String Split and Join"
      ]
    },
    {
      "cell_type": "code",
      "metadata": {
        "colab": {
          "base_uri": "https://localhost:8080/"
        },
        "id": "MtV9nR5LOead",
        "outputId": "6ddf47c5-5637-4004-f2f6-49386b1f05c7"
      },
      "source": [
        "def split_and_join(line):\n",
        "    # write your code here\n",
        "    new_line = line.split()\n",
        "    new_line = '-'.join(new_line)\n",
        "    return new_line\n",
        "\n",
        "if __name__ == '__main__':\n",
        "    line = input()\n",
        "    result = split_and_join(line)\n",
        "    print(result)"
      ],
      "execution_count": 2,
      "outputs": [
        {
          "output_type": "stream",
          "text": [
            "this is a string\n",
            "this-is-a-string\n"
          ],
          "name": "stdout"
        }
      ]
    },
    {
      "cell_type": "markdown",
      "metadata": {
        "id": "HJnwiSH-PhQn"
      },
      "source": [
        "#Problem 3\n",
        "What's your name?"
      ]
    },
    {
      "cell_type": "code",
      "metadata": {
        "colab": {
          "base_uri": "https://localhost:8080/"
        },
        "id": "naaqsu2HPdoD",
        "outputId": "d9fc60fc-fa76-4ed8-b456-936816e3e38a"
      },
      "source": [
        "def print_full_name(first, last):\n",
        "    # Write your code here\n",
        "    print('Hello ' + first + ' ' + last + '! You just delved into python.')\n",
        "    \n",
        "\n",
        "if __name__ == '__main__':\n",
        "    first_name = input()\n",
        "    last_name = input()\n",
        "    print_full_name(first_name, last_name)"
      ],
      "execution_count": 3,
      "outputs": [
        {
          "output_type": "stream",
          "text": [
            "Prishita\n",
            "Kochhar\n",
            "Hello Prishita Kochhar! You just delved into python.\n"
          ],
          "name": "stdout"
        }
      ]
    },
    {
      "cell_type": "markdown",
      "metadata": {
        "id": "FHZFT0P7QVYO"
      },
      "source": [
        "# Problem 4\n",
        "Mutations"
      ]
    },
    {
      "cell_type": "code",
      "metadata": {
        "colab": {
          "base_uri": "https://localhost:8080/"
        },
        "id": "T4-audNFQRBk",
        "outputId": "6e742e8a-9544-4aff-e2b5-3366ff8d1aaa"
      },
      "source": [
        "def mutate_string(string, position, character):\n",
        "    return (string[:position] + character + string[position + 1 :])\n",
        "\n",
        "if __name__ == '__main__':\n",
        "    s = input()\n",
        "    i, c = input().split()\n",
        "    s_new = mutate_string(s, int(i), c)\n",
        "    print(s_new)"
      ],
      "execution_count": 4,
      "outputs": [
        {
          "output_type": "stream",
          "text": [
            "abracadabra\n",
            "5 k\n",
            "abrackdabra\n"
          ],
          "name": "stdout"
        }
      ]
    },
    {
      "cell_type": "markdown",
      "metadata": {
        "id": "Tv7l47yaQ3Xv"
      },
      "source": [
        "# Problem 5\n",
        " Find a string"
      ]
    },
    {
      "cell_type": "code",
      "metadata": {
        "colab": {
          "base_uri": "https://localhost:8080/"
        },
        "id": "9-HjCKZLQyLu",
        "outputId": "361ccf28-9bd2-4830-fd19-a726fb727e77"
      },
      "source": [
        "def count_substring(string, sub_string):\n",
        "    count = 0\n",
        "    sub_len = len(sub_string)\n",
        "    str_len = len(string)\n",
        "    for i in range(0, str_len):\n",
        "        if string[i:i+sub_len] == sub_string:\n",
        "            count += 1\n",
        "    return count\n",
        "\n",
        "if __name__ == '__main__':\n",
        "    string = input().strip()\n",
        "    sub_string = input().strip()\n",
        "    \n",
        "    count = count_substring(string, sub_string)\n",
        "    print(count)"
      ],
      "execution_count": 5,
      "outputs": [
        {
          "output_type": "stream",
          "text": [
            "ABCDCDC\n",
            "CDC\n",
            "2\n"
          ],
          "name": "stdout"
        }
      ]
    },
    {
      "cell_type": "markdown",
      "metadata": {
        "id": "NC4EtIxpSW16"
      },
      "source": [
        "# Problem 6\n",
        "String Validators"
      ]
    },
    {
      "cell_type": "code",
      "metadata": {
        "colab": {
          "base_uri": "https://localhost:8080/"
        },
        "id": "E_i6zXdrSQTw",
        "outputId": "c45a1702-b34c-4a49-ee0f-9dd93f49492f"
      },
      "source": [
        "if __name__ == '__main__':\n",
        "    s = input()\n",
        "    alnum = 0\n",
        "    alpha = 0\n",
        "    digit = 0\n",
        "    lower = 0\n",
        "    upper = 0\n",
        "    for i in s:\n",
        "        if i.isalnum():\n",
        "            alnum = 1\n",
        "        if i.isalpha():\n",
        "            alpha = 1\n",
        "        if i.isdigit():\n",
        "            digit = 1\n",
        "        if i.islower():\n",
        "            lower = 1\n",
        "        if i.isupper():\n",
        "            upper = 1\n",
        "    if alnum == 1:\n",
        "        print(True)\n",
        "    else:\n",
        "        print(False)\n",
        "    if alpha == 1:\n",
        "        print(True)\n",
        "    else:\n",
        "        print(False)\n",
        "    if digit == 1:\n",
        "        print(True)\n",
        "    else:\n",
        "        print(False)\n",
        "    if lower == 1:\n",
        "        print(True)\n",
        "    else:\n",
        "        print(False)\n",
        "    if upper == 1:\n",
        "        print(True)\n",
        "    else:\n",
        "        print(False)"
      ],
      "execution_count": 6,
      "outputs": [
        {
          "output_type": "stream",
          "text": [
            "qA2\n",
            "True\n",
            "True\n",
            "True\n",
            "True\n",
            "True\n"
          ],
          "name": "stdout"
        }
      ]
    },
    {
      "cell_type": "markdown",
      "metadata": {
        "id": "YMWw8mJOs-40"
      },
      "source": [
        "# Problem 7\n",
        "Text Alignment"
      ]
    },
    {
      "cell_type": "code",
      "metadata": {
        "id": "7arEYzddTumN",
        "colab": {
          "base_uri": "https://localhost:8080/"
        },
        "outputId": "04aeb858-7485-48d5-ce6b-5fd625ef929c"
      },
      "source": [
        "thickness = int(input()) #This must be an odd number\n",
        "c = 'H'\n",
        "\n",
        "#Top Cone\n",
        "for i in range(thickness):\n",
        "    print((c*i).rjust(thickness-1)+c+(c*i).ljust(thickness-1))\n",
        "\n",
        "#Top Pillars\n",
        "for i in range(thickness+1):\n",
        "    print((c*thickness).center(thickness*2)+(c*thickness).center(thickness*6))\n",
        "\n",
        "#Middle Belt\n",
        "for i in range((thickness+1)//2):\n",
        "    print((c*thickness*5).center(thickness*6))    \n",
        "\n",
        "#Bottom Pillars\n",
        "for i in range(thickness+1):\n",
        "    print((c*thickness).center(thickness*2)+(c*thickness).center(thickness*6))    \n",
        "\n",
        "#Bottom Cone\n",
        "for i in range(thickness):\n",
        "    print(((c*(thickness-i-1)).rjust(thickness)+c+(c*(thickness-i-1)).ljust(thickness)).rjust(thickness*6))"
      ],
      "execution_count": 7,
      "outputs": [
        {
          "output_type": "stream",
          "text": [
            "5\n",
            "    H    \n",
            "   HHH   \n",
            "  HHHHH  \n",
            " HHHHHHH \n",
            "HHHHHHHHH\n",
            "  HHHHH               HHHHH             \n",
            "  HHHHH               HHHHH             \n",
            "  HHHHH               HHHHH             \n",
            "  HHHHH               HHHHH             \n",
            "  HHHHH               HHHHH             \n",
            "  HHHHH               HHHHH             \n",
            "  HHHHHHHHHHHHHHHHHHHHHHHHH   \n",
            "  HHHHHHHHHHHHHHHHHHHHHHHHH   \n",
            "  HHHHHHHHHHHHHHHHHHHHHHHHH   \n",
            "  HHHHH               HHHHH             \n",
            "  HHHHH               HHHHH             \n",
            "  HHHHH               HHHHH             \n",
            "  HHHHH               HHHHH             \n",
            "  HHHHH               HHHHH             \n",
            "  HHHHH               HHHHH             \n",
            "                    HHHHHHHHH \n",
            "                     HHHHHHH  \n",
            "                      HHHHH   \n",
            "                       HHH    \n",
            "                        H     \n"
          ],
          "name": "stdout"
        }
      ]
    },
    {
      "cell_type": "markdown",
      "metadata": {
        "id": "HRA6aCxpvSPP"
      },
      "source": [
        "# Problem 8\n",
        "Text Wrap"
      ]
    },
    {
      "cell_type": "code",
      "metadata": {
        "colab": {
          "base_uri": "https://localhost:8080/"
        },
        "id": "0nvhTfMtvL4g",
        "outputId": "03055663-78b1-4549-9786-50a8b5e39585"
      },
      "source": [
        "import textwrap\n",
        "\n",
        "def wrap(string, max_width):\n",
        "    return textwrap.fill(string, max_width)\n",
        "\n",
        "if __name__ == '__main__':\n",
        "    string, max_width = input(), int(input())\n",
        "    result = wrap(string, max_width)\n",
        "    print(result)"
      ],
      "execution_count": 8,
      "outputs": [
        {
          "output_type": "stream",
          "text": [
            "ABCDEFGHIJKLIMNOQRSTUVWXYZ\n",
            "4\n",
            "ABCD\n",
            "EFGH\n",
            "IJKL\n",
            "IMNO\n",
            "QRST\n",
            "UVWX\n",
            "YZ\n"
          ],
          "name": "stdout"
        }
      ]
    },
    {
      "cell_type": "markdown",
      "metadata": {
        "id": "aQiD4phevZUd"
      },
      "source": [
        "# Problem 9\n",
        "Designer Door Mat"
      ]
    },
    {
      "cell_type": "code",
      "metadata": {
        "colab": {
          "base_uri": "https://localhost:8080/"
        },
        "id": "ZgJXyBGFvdJA",
        "outputId": "6815f273-dd0e-437a-fb94-feb933ab93af"
      },
      "source": [
        "n, m = map(int,input().split())\n",
        "\n",
        "for i in range(n//2):\n",
        "    print((('.|.')*(2*i + 1)).center(m, '-'))\n",
        "print('WELCOME'.center(m, '-'))\n",
        "for i in range(n//2 - 1,-1,-1):\n",
        "    print((('.|.')*(2*i + 1)).center(m, '-'))"
      ],
      "execution_count": 9,
      "outputs": [
        {
          "output_type": "stream",
          "text": [
            "9 27\n",
            "------------.|.------------\n",
            "---------.|..|..|.---------\n",
            "------.|..|..|..|..|.------\n",
            "---.|..|..|..|..|..|..|.---\n",
            "----------WELCOME----------\n",
            "---.|..|..|..|..|..|..|.---\n",
            "------.|..|..|..|..|.------\n",
            "---------.|..|..|.---------\n",
            "------------.|.------------\n"
          ],
          "name": "stdout"
        }
      ]
    },
    {
      "cell_type": "markdown",
      "metadata": {
        "id": "tfueqUYcyB_j"
      },
      "source": [
        "# Problem 10\n",
        "String Formatting"
      ]
    },
    {
      "cell_type": "code",
      "metadata": {
        "id": "XiVLgBSvx7dE",
        "colab": {
          "base_uri": "https://localhost:8080/"
        },
        "outputId": "61509c53-024f-4fad-8d78-c46ccce8a809"
      },
      "source": [
        "def print_formatted(number):\n",
        "    # your code goes here\n",
        "    width = len(format(number, 'b'))\n",
        "    for i in range(1, number+1):\n",
        "        print(str(i).rjust(width), end = ' ')\n",
        "        print(format(i, 'o').rjust(width), end = ' ')\n",
        "        print(format(i, 'x').upper().rjust(width), end = ' ')\n",
        "        print(format(i, 'b').rjust(width), end = '\\n')\n",
        "\n",
        "if __name__ == '__main__':\n",
        "    n = int(input())\n",
        "    print_formatted(n)"
      ],
      "execution_count": 10,
      "outputs": [
        {
          "output_type": "stream",
          "text": [
            "2\n",
            " 1  1  1  1\n",
            " 2  2  2 10\n"
          ],
          "name": "stdout"
        }
      ]
    },
    {
      "cell_type": "markdown",
      "metadata": {
        "id": "kb89WKSs2KDS"
      },
      "source": [
        "# Problem 11\n",
        "Alphabet Rangoli"
      ]
    },
    {
      "cell_type": "code",
      "metadata": {
        "colab": {
          "base_uri": "https://localhost:8080/"
        },
        "id": "nr7PFR-Q_Wne",
        "outputId": "945221af-4549-4ade-dbcd-4a2d5414067c"
      },
      "source": [
        "import string\n",
        "\n",
        "def print_rangoli(size):\n",
        "    # your code goes here\n",
        "    alphabet = list(string.ascii_lowercase)\n",
        "    rangoli = []\n",
        "    for i in range(0,size):\n",
        "        s = '-'.join(alphabet[i:n])\n",
        "        rangoli.append((s[::-1]+s[1:]).center(4*size-3, '-'))\n",
        "    R = '\\n'.join(rangoli[::-1]+rangoli[1:])\n",
        "    print(R)\n",
        "\n",
        "if __name__ == '__main__':\n",
        "    n = int(input())\n",
        "    print_rangoli(n)"
      ],
      "execution_count": 11,
      "outputs": [
        {
          "output_type": "stream",
          "text": [
            "7\n",
            "------------g------------\n",
            "----------g-f-g----------\n",
            "--------g-f-e-f-g--------\n",
            "------g-f-e-d-e-f-g------\n",
            "----g-f-e-d-c-d-e-f-g----\n",
            "--g-f-e-d-c-b-c-d-e-f-g--\n",
            "g-f-e-d-c-b-a-b-c-d-e-f-g\n",
            "--g-f-e-d-c-b-c-d-e-f-g--\n",
            "----g-f-e-d-c-d-e-f-g----\n",
            "------g-f-e-d-e-f-g------\n",
            "--------g-f-e-f-g--------\n",
            "----------g-f-g----------\n",
            "------------g------------\n"
          ],
          "name": "stdout"
        }
      ]
    },
    {
      "cell_type": "markdown",
      "metadata": {
        "id": "CbGhoO9bCXVf"
      },
      "source": [
        "# Problem 12\n",
        "Capitalize!"
      ]
    },
    {
      "cell_type": "code",
      "metadata": {
        "colab": {
          "base_uri": "https://localhost:8080/"
        },
        "id": "O-x7oGcGCAJp",
        "outputId": "b8ffa6fa-3b08-4630-84ed-36382e456c2e"
      },
      "source": [
        "import math\n",
        "import os\n",
        "import random\n",
        "import re\n",
        "import sys\n",
        "\n",
        "def solve(s):\n",
        "    s = ' ' + s\n",
        "    for i in range(len(s)):\n",
        "        if s[i] == ' ':\n",
        "            s = s[:i+1] + s[i+1].upper() + s[i+2:]\n",
        "    return s[1:]\n",
        "\n",
        "if __name__ == '__main__':\n",
        "    s = input()\n",
        "\n",
        "    result = solve(s)\n",
        "\n",
        "    print(result)"
      ],
      "execution_count": 12,
      "outputs": [
        {
          "output_type": "stream",
          "text": [
            "hello world!  my name is prishita kochhar\n",
            "Hello World!  My Name Is Prishita Kochhar\n"
          ],
          "name": "stdout"
        }
      ]
    },
    {
      "cell_type": "markdown",
      "metadata": {
        "id": "aap6TklcDvNK"
      },
      "source": [
        "# Problem 13\n",
        "The Minion Game"
      ]
    },
    {
      "cell_type": "code",
      "metadata": {
        "colab": {
          "base_uri": "https://localhost:8080/"
        },
        "id": "XMPcC3pQCpd7",
        "outputId": "219faa01-85ba-4b3f-e8e3-2b60e75274d3"
      },
      "source": [
        "def minion_game(string):\n",
        "    # your code goes here\n",
        "    string = string.lower()\n",
        "    vowels = 'aeiou'\n",
        "    stuart = 0\n",
        "    kevin = 0\n",
        "    for i in range(len(string)):\n",
        "        if string[i] in vowels:\n",
        "            kevin += (len(string) - i)\n",
        "        else:\n",
        "            stuart += (len(string) - i)   \n",
        "    if kevin > stuart:\n",
        "        print('Kevin ' + str(kevin))\n",
        "    elif stuart > kevin:\n",
        "        print('Stuart ' + str(stuart))\n",
        "    else:\n",
        "        print('Draw')\n",
        "if __name__ == '__main__':\n",
        "    s = input()\n",
        "    minion_game(s)"
      ],
      "execution_count": 13,
      "outputs": [
        {
          "output_type": "stream",
          "text": [
            "BANANANAAAS\n",
            "Draw\n"
          ],
          "name": "stdout"
        }
      ]
    },
    {
      "cell_type": "markdown",
      "metadata": {
        "id": "JrO2wf8PLsmf"
      },
      "source": [
        "# Problem 14\n",
        "Merge the Tools"
      ]
    },
    {
      "cell_type": "code",
      "metadata": {
        "colab": {
          "base_uri": "https://localhost:8080/"
        },
        "id": "JTyAVsuaJUDh",
        "outputId": "abe46e5e-fe69-4656-ff8a-05e7b8e835b0"
      },
      "source": [
        "def merge_the_tools(string, k):\n",
        "    # your code goes here \n",
        "    for part in zip(*[iter(string)] * k):\n",
        "        d = dict()\n",
        "        print(''.join([ d.setdefault(c, c) for c in part if c not in d ]))\n",
        "\n",
        "if __name__ == '__main__':\n",
        "    string, k = input(), int(input())\n",
        "    merge_the_tools(string, k)"
      ],
      "execution_count": 1,
      "outputs": [
        {
          "output_type": "stream",
          "text": [
            "AABCAAADA\n",
            "3\n",
            "AB\n",
            "CA\n",
            "AD\n"
          ],
          "name": "stdout"
        }
      ]
    },
    {
      "cell_type": "code",
      "metadata": {
        "id": "fruCZT-1VzyT"
      },
      "source": [
        ""
      ],
      "execution_count": null,
      "outputs": []
    }
  ]
}