{
  "nbformat": 4,
  "nbformat_minor": 0,
  "metadata": {
    "colab": {
      "name": "Innomatics_Assignment_5.ipynb",
      "provenance": [],
      "collapsed_sections": []
    },
    "kernelspec": {
      "name": "python3",
      "display_name": "Python 3"
    },
    "language_info": {
      "name": "python"
    }
  },
  "cells": [
    {
      "cell_type": "markdown",
      "metadata": {
        "id": "S7YBZx1zWjAQ"
      },
      "source": [
        "# Problem 1\n",
        "Detect Floating Point number"
      ]
    },
    {
      "cell_type": "code",
      "metadata": {
        "colab": {
          "base_uri": "https://localhost:8080/"
        },
        "id": "wl25fFgnWeuC",
        "outputId": "e72656fe-de36-45c3-8889-539ff94fc917"
      },
      "source": [
        "import re\n",
        "n = int(input())\n",
        "for i in range(n):\n",
        "    test_case = input()\n",
        "    print(bool(re.match(r'^[+-]?[0-9]*\\.[0-9]+$', test_case)))"
      ],
      "execution_count": 1,
      "outputs": [
        {
          "output_type": "stream",
          "text": [
            "4\n",
            "4.89\n",
            "True\n",
            "5.09\n",
            "True\n",
            ".89\n",
            "True\n",
            "random\n",
            "False\n"
          ],
          "name": "stdout"
        }
      ]
    },
    {
      "cell_type": "markdown",
      "metadata": {
        "id": "hY5jhlzaWqYI"
      },
      "source": [
        "# Problem 2\n",
        "Re.split()"
      ]
    },
    {
      "cell_type": "code",
      "metadata": {
        "colab": {
          "base_uri": "https://localhost:8080/"
        },
        "id": "sGtgxmPZWuIF",
        "outputId": "cb28f07e-c713-4aa1-ff3f-d51951eb7d55"
      },
      "source": [
        "regex_pattern = r\"[,.]\"\t# Do not delete 'r'.\n",
        "\n",
        "import re\n",
        "print(\"\\n\".join(re.split(regex_pattern, input())))"
      ],
      "execution_count": 2,
      "outputs": [
        {
          "output_type": "stream",
          "text": [
            "100,000,000.000\n",
            "100\n",
            "000\n",
            "000\n",
            "000\n"
          ],
          "name": "stdout"
        }
      ]
    },
    {
      "cell_type": "markdown",
      "metadata": {
        "id": "r4SeFnuwWuyI"
      },
      "source": [
        "# Problem 3\n",
        "Group(), Groups() and Groupdict()"
      ]
    },
    {
      "cell_type": "code",
      "metadata": {
        "colab": {
          "base_uri": "https://localhost:8080/"
        },
        "id": "DTy4UzFyW1L_",
        "outputId": "ac6b8a39-509b-4b45-8d2d-17d1d200f98f"
      },
      "source": [
        "import re\n",
        "test_case = input()\n",
        "m = re.findall(r\"([a-zA-Z0-9])\\1+\", test_case)\n",
        "if m:\n",
        "    print(m[0])\n",
        "else:\n",
        "    print(-1)"
      ],
      "execution_count": 4,
      "outputs": [
        {
          "output_type": "stream",
          "text": [
            "12345678910111213141516171820212223\n",
            "1\n"
          ],
          "name": "stdout"
        }
      ]
    },
    {
      "cell_type": "markdown",
      "metadata": {
        "id": "Il_pNWFhW17L"
      },
      "source": [
        "# Problem 4\n",
        "Re.findall() and Re.finditer()"
      ]
    },
    {
      "cell_type": "code",
      "metadata": {
        "colab": {
          "base_uri": "https://localhost:8080/"
        },
        "id": "sPrZVBR-W8Bt",
        "outputId": "6d846661-19b2-4386-bd27-a54ddb25113f"
      },
      "source": [
        "import re\n",
        "m = re.findall(r\"(?=[bcdfghjklmnpqrstvwxyz]([aeiouAEIOU]{2,})[bcdfghjklmnpqrstvwxyz])\", input())\n",
        "if m:\n",
        "    for i in m:\n",
        "        print(i)\n",
        "else:\n",
        "    print(-1)"
      ],
      "execution_count": 5,
      "outputs": [
        {
          "output_type": "stream",
          "text": [
            "rabcdeefgyYhFjkIoomnpOeorteeeeet\n",
            "ee\n",
            "Ioo\n",
            "Oeo\n",
            "eeeee\n"
          ],
          "name": "stdout"
        }
      ]
    },
    {
      "cell_type": "markdown",
      "metadata": {
        "id": "zs9zzcq5W-Ef"
      },
      "source": [
        "# Problem 5\n",
        "Re.start() & Re.end()"
      ]
    },
    {
      "cell_type": "code",
      "metadata": {
        "colab": {
          "base_uri": "https://localhost:8080/"
        },
        "id": "_wKt21l_XCvw",
        "outputId": "066e30ca-d54c-4934-8cd7-4698bcd544ba"
      },
      "source": [
        "import re\n",
        "\n",
        "S = input()\n",
        "k = input()\n",
        "m = list(re.finditer(r\"(?=(%s))\"%k, S))\n",
        "if not m:\n",
        "    print(\"(-1, -1)\")\n",
        "for i in m:\n",
        "    print((i.start(1), i.end(1)-1))"
      ],
      "execution_count": 6,
      "outputs": [
        {
          "output_type": "stream",
          "text": [
            "aaadaa\n",
            "aa\n",
            "(0, 1)\n",
            "(1, 2)\n",
            "(4, 5)\n"
          ],
          "name": "stdout"
        }
      ]
    },
    {
      "cell_type": "markdown",
      "metadata": {
        "id": "79AOvmMwnI7i"
      },
      "source": [
        "# Problem 6\n",
        "Regex Substitution"
      ]
    },
    {
      "cell_type": "code",
      "metadata": {
        "colab": {
          "base_uri": "https://localhost:8080/"
        },
        "id": "9mDXFwHInDdv",
        "outputId": "aa2dc233-3585-4f2b-bd11-7faa2789a9b6"
      },
      "source": [
        "import re\n",
        "\n",
        "N = int(input())\n",
        "for i in range(N):\n",
        "    S = input()\n",
        "    print(re.sub(r\"(?<= )(&&|\\|\\|)(?= )\", lambda x: \"and\" if x.group() == \"&&\" else \"or\", S))"
      ],
      "execution_count": 7,
      "outputs": [
        {
          "output_type": "stream",
          "text": [
            "3\n",
            "if a + b > 0 && a - b < 0:\n",
            "if a + b > 0 and a - b < 0:\n",
            "start()\n",
            "start()\n",
            "elif a*b > 10 || a/b < 1:\n",
            "elif a*b > 10 or a/b < 1:\n"
          ],
          "name": "stdout"
        }
      ]
    },
    {
      "cell_type": "markdown",
      "metadata": {
        "id": "527ofRc1riDz"
      },
      "source": [
        "# Problem 7 \n",
        "Validating Roman Numerals"
      ]
    },
    {
      "cell_type": "code",
      "metadata": {
        "colab": {
          "base_uri": "https://localhost:8080/"
        },
        "id": "r89fDKMsrXp4",
        "outputId": "ddcdbbc7-dbe3-47ae-9862-99acc3811bba"
      },
      "source": [
        "thousand = 'M{0,3}'\n",
        "hundred = '(C[MD]|D?C{0,3})'\n",
        "ten = '(X[CL]|L?X{0,3})'\n",
        "digit = '(I[VX]|V?I{0,3})'\n",
        "regex_pattern = r\"%s%s%s%s$\" % (thousand, hundred, ten, digit)\t# Do not delete 'r'.\n",
        "\n",
        "import re\n",
        "print(str(bool(re.match(regex_pattern, input()))))"
      ],
      "execution_count": 8,
      "outputs": [
        {
          "output_type": "stream",
          "text": [
            "CDXX\n",
            "True\n"
          ],
          "name": "stdout"
        }
      ]
    },
    {
      "cell_type": "markdown",
      "metadata": {
        "id": "V4h1_z9psagP"
      },
      "source": [
        "# Problem 8\n",
        "Validating Phone Numbers"
      ]
    },
    {
      "cell_type": "code",
      "metadata": {
        "colab": {
          "base_uri": "https://localhost:8080/"
        },
        "id": "5tkJ1KIDsWQy",
        "outputId": "7d744f2b-9b87-4422-f4eb-d55d8f65755a"
      },
      "source": [
        "import re\n",
        "\n",
        "N = int(input())\n",
        "for i in range(N):\n",
        "    PN = input()\n",
        "    if bool(re.match(r\"^[789][0-9]{9}$\", PN)) == True:\n",
        "        print(\"YES\")\n",
        "    else:\n",
        "        print('NO')"
      ],
      "execution_count": 10,
      "outputs": [
        {
          "output_type": "stream",
          "text": [
            "4\n",
            "8907623456\n",
            "YES\n",
            "89075623412\n",
            "NO\n",
            "1289087567\n",
            "NO\n",
            "holidaysss\n",
            "NO\n"
          ],
          "name": "stdout"
        }
      ]
    },
    {
      "cell_type": "markdown",
      "metadata": {
        "id": "54Vc5X08uQww"
      },
      "source": [
        "# Problem 9\n",
        "Validating and Parsing Email"
      ]
    },
    {
      "cell_type": "code",
      "metadata": {
        "colab": {
          "base_uri": "https://localhost:8080/"
        },
        "id": "KIMCVc03uCd4",
        "outputId": "0b7c7ffc-2a25-41c4-ce10-79ffc4e3e172"
      },
      "source": [
        "import re\n",
        "import email.utils\n",
        "\n",
        "n = int(input())\n",
        "for i in range(n):\n",
        "    S = input()\n",
        "    email_id = email.utils.parseaddr(S)[1]\n",
        "    if bool(re.match(r\"^[a-z][a-z0-9-._]*@[a-z]+\\.[a-z]{1,3}$\", email_id)):\n",
        "        print(S)\n",
        "\n",
        "        9\n",
        "vin <vineet@>\n",
        "vineet <vineet@gmail.com>\n",
        "vineet <vineet@gma.il.co.m>\n",
        "vineet <vineet@gma-il.co-m>\n",
        "vineet <vineet@gma,il.co@m>\n",
        "vineet <vineet@gmail,com>\n",
        "vineet <.vin@gmail.com>\n",
        "vineet <vin-nii@gmail.com>\n",
        "vineet <v__i_n-n_ii@gmail.com>"
      ],
      "execution_count": 11,
      "outputs": [
        {
          "output_type": "stream",
          "text": [
            "9\n",
            "vin <vineet@>\n",
            "vineet <vineet@gmail.com>\n",
            "vineet <vineet@gmail.com>\n",
            "vineet <vineet@gma.il.co.m>\n",
            " vineet <vineet@gma-il.co-m>\n",
            "vineet <vineet@gma,il.co@m>\n",
            "vineet <vineet@gmail,com>\n",
            "vineet <.vin@gmail.com>\n",
            "vineet <vin-nii@gmail.com>\n",
            "vineet <vin-nii@gmail.com>\n",
            "vineet <v__i_n-n_ii@gmail.com>\n",
            "vineet <v__i_n-n_ii@gmail.com>\n"
          ],
          "name": "stdout"
        }
      ]
    },
    {
      "cell_type": "markdown",
      "metadata": {
        "id": "IXhZrAw1xxIs"
      },
      "source": [
        "# Problem 10\n",
        "Hex Colour Code"
      ]
    },
    {
      "cell_type": "code",
      "metadata": {
        "colab": {
          "base_uri": "https://localhost:8080/"
        },
        "id": "yVEZ4jFmxXnn",
        "outputId": "b6424351-392f-468a-d0e5-02d73f88dcd0"
      },
      "source": [
        "import re\n",
        "N=int(input())\n",
        "\n",
        "for i in range(0,N):\n",
        "    s=input()\n",
        "\n",
        "    x=s.split()\n",
        "\n",
        "    if len(x)>1  and  '{' not in x:\n",
        "        x=re.findall(r'#[a-fA-F0-9]{3,6}',s)\n",
        "        [print(i) for  i in x]"
      ],
      "execution_count": 12,
      "outputs": [
        {
          "output_type": "stream",
          "text": [
            "11\n",
            "#BED\n",
            "{\n",
            "    color: #FfFdF8; background-color:#aef;\n",
            "#FfFdF8\n",
            "#aef\n",
            "    font-size: 123px;\n",
            "}\n",
            "#Cab\n",
            "{\n",
            "    background-color: #ABC;\n",
            "#ABC\n",
            "    border: 2px dashed #fff;\n",
            "#fff\n",
            "}\n",
            "\n"
          ],
          "name": "stdout"
        }
      ]
    },
    {
      "cell_type": "markdown",
      "metadata": {
        "id": "b9s2yPIZy80s"
      },
      "source": [
        "# Problem 11\n",
        "HTML Parser - Part 1"
      ]
    },
    {
      "cell_type": "code",
      "metadata": {
        "colab": {
          "base_uri": "https://localhost:8080/"
        },
        "id": "d1WnQBwqzC6W",
        "outputId": "42cb65b4-7c36-41a0-9832-802c6297965a"
      },
      "source": [
        "from html.parser import HTMLParser\n",
        "class MyHTMLParser(HTMLParser):\n",
        "    def handle_starttag(self, tag, attrs):        \n",
        "        print ('Start :',tag)\n",
        "        for ele in attrs:\n",
        "            print ('->',ele[0],'>',ele[1])\n",
        "            \n",
        "    def handle_endtag(self, tag):\n",
        "        print ('End   :',tag)\n",
        "        \n",
        "    def handle_startendtag(self, tag, attrs):\n",
        "        print ('Empty :',tag)\n",
        "        for ele in attrs:\n",
        "            print ('->',ele[0],'>',ele[1])\n",
        "            \n",
        "MyParser = MyHTMLParser()\n",
        "MyParser.feed(''.join([input().strip() for _ in range(int(input()))]))"
      ],
      "execution_count": 13,
      "outputs": [
        {
          "output_type": "stream",
          "text": [
            "2\n",
            "<html><head><title>HTML Parser - I</title></head>\n",
            "<body data-modal-target class='1'><h1>HackerRank</h1><br /></body></html>\n",
            "Start : html\n",
            "Start : head\n",
            "Start : title\n",
            "End   : title\n",
            "End   : head\n",
            "Start : body\n",
            "-> data-modal-target > None\n",
            "-> class > 1\n",
            "Start : h1\n",
            "End   : h1\n",
            "Empty : br\n",
            "End   : body\n",
            "End   : html\n"
          ],
          "name": "stdout"
        }
      ]
    },
    {
      "cell_type": "markdown",
      "metadata": {
        "id": "Rl7toPENz5tw"
      },
      "source": [
        "# Problem 12\n",
        "HTML Parser - Part 2"
      ]
    },
    {
      "cell_type": "code",
      "metadata": {
        "colab": {
          "base_uri": "https://localhost:8080/"
        },
        "id": "nvPlWOBszj5c",
        "outputId": "544ac53b-b692-4be2-942d-460fbff53b71"
      },
      "source": [
        "from html.parser import HTMLParser\n",
        "\n",
        "class MyHTMLParser(HTMLParser):\n",
        "    def handle_comment(self, comment):\n",
        "        if '\\n' in comment:\n",
        "            print('>>> Multi-line Comment')\n",
        "        else:\n",
        "            print('>>> Single-line Comment')\n",
        "            \n",
        "        print(comment)\n",
        "    \n",
        "    def handle_data(self, data):\n",
        "        if data == '\\n': return\n",
        "        print('>>> Data')\n",
        "        print(data)\n",
        "\n",
        "html = \"\"       \n",
        "for i in range(int(input())):\n",
        "    html += input().rstrip()\n",
        "    html += '\\n'\n",
        "    \n",
        "parser = MyHTMLParser()\n",
        "parser.feed(html)\n",
        "parser.close()"
      ],
      "execution_count": 14,
      "outputs": [
        {
          "output_type": "stream",
          "text": [
            "4\n",
            "<!--[if IE 9]>IE9-specific content\n",
            "<![endif]-->\n",
            "<div> Welcome to HackerRank</div>\n",
            "<!--[if IE 9]>IE9-specific content<![endif]-->\n",
            ">>> Multi-line Comment\n",
            "[if IE 9]>IE9-specific content\n",
            "<![endif]\n",
            ">>> Data\n",
            " Welcome to HackerRank\n",
            ">>> Single-line Comment\n",
            "[if IE 9]>IE9-specific content<![endif]\n"
          ],
          "name": "stdout"
        }
      ]
    },
    {
      "cell_type": "markdown",
      "metadata": {
        "id": "esDkk1qt1_uD"
      },
      "source": [
        "# Problem 13\n",
        "Detect HTML Tags, Attributes and Attribute values"
      ]
    },
    {
      "cell_type": "code",
      "metadata": {
        "colab": {
          "base_uri": "https://localhost:8080/"
        },
        "id": "bmQW7MTj1xip",
        "outputId": "87bd4e23-4bd7-420a-cecb-a82d349be507"
      },
      "source": [
        "from html.parser import HTMLParser\n",
        "class MyHTMLParser(HTMLParser):\n",
        "    def handle_starttag(self, tag, attrs):\n",
        "        print(tag)\n",
        "        [print('-> {} > {}'.format(*attr)) for attr in attrs]\n",
        "        \n",
        "html = '\\n'.join([input() for _ in range(int(input()))])\n",
        "parser = MyHTMLParser()\n",
        "parser.feed(html)\n",
        "parser.close()"
      ],
      "execution_count": 2,
      "outputs": [
        {
          "output_type": "stream",
          "text": [
            "9\n",
            "<head>\n",
            "<title>HTML</title>\n",
            "</head>\n",
            "<object type='application/x-flash\"\n",
            "  data=\"your-file.swf\"\n",
            "  width=\"0\" height=\"0\">\n",
            "  <!-- <param name=\"movie\" value=\"your-file.swf\" /> -->\n",
            "  <param name=\"quality\" value=\"high\"/>\n",
            "</object>\n",
            "head\n",
            "title\n",
            "param\n",
            "-> name > quality\n",
            "-> value > high\n"
          ],
          "name": "stdout"
        }
      ]
    },
    {
      "cell_type": "markdown",
      "metadata": {
        "id": "XvAsWi2DFdcS"
      },
      "source": [
        "# Problem 14\n",
        "Validating UID"
      ]
    },
    {
      "cell_type": "code",
      "metadata": {
        "colab": {
          "base_uri": "https://localhost:8080/"
        },
        "id": "SISM1fqtEwPl",
        "outputId": "c0bebe79-ee68-4056-8c94-cabcc703a433"
      },
      "source": [
        "import re\n",
        "\n",
        "for i in range(int(input())):\n",
        "    u = ''.join(sorted(input()))\n",
        "    try:\n",
        "        assert re.search(r'[A-Z]{2}', u)\n",
        "        assert re.search(r'\\d\\d\\d', u)\n",
        "        assert not re.search(r'[^a-zA-Z0-9]', u)\n",
        "        assert not re.search(r'(.)\\1', u)\n",
        "        assert len(u) == 10\n",
        "    except:\n",
        "        print('Invalid')\n",
        "    else:\n",
        "        print('Valid')"
      ],
      "execution_count": 3,
      "outputs": [
        {
          "output_type": "stream",
          "text": [
            "2\n",
            "B1CD102354\n",
            "Invalid\n",
            "B1CDEF2354\n",
            "Valid\n"
          ],
          "name": "stdout"
        }
      ]
    },
    {
      "cell_type": "markdown",
      "metadata": {
        "id": "m61Fi-gRGJUL"
      },
      "source": [
        "# Problem 15\n",
        "Validating Credit Card Numbers"
      ]
    },
    {
      "cell_type": "code",
      "metadata": {
        "colab": {
          "base_uri": "https://localhost:8080/"
        },
        "id": "41zj0kRlGA7U",
        "outputId": "b3fff931-cf8f-4d5b-e070-f2afbe29b53d"
      },
      "source": [
        "import re\n",
        "TESTER = re.compile(\n",
        "    r\"^\"\n",
        "    r\"(?!.*(\\d)(-?\\1){3})\"\n",
        "    r\"[456]\"\n",
        "    r\"\\d{3}\"\n",
        "    r\"(?:-?\\d{4}){3}\"\n",
        "    r\"$\")\n",
        "for _ in range(int(input().strip())):\n",
        "    print(\"Valid\" if TESTER.search(input().strip()) else \"Invalid\")"
      ],
      "execution_count": 4,
      "outputs": [
        {
          "output_type": "stream",
          "text": [
            "6\n",
            "4123456789123456\n",
            "Valid\n",
            "5123-4567-8912-3456\n",
            "Valid\n",
            "61234-567-8912-3456\n",
            "Invalid\n",
            "4123356789123456\n",
            "Valid\n",
            "5133-3367-8912-3456\n",
            "Invalid\n",
            "5123 - 3567 - 8912 - 3456\n",
            "Invalid\n"
          ],
          "name": "stdout"
        }
      ]
    },
    {
      "cell_type": "markdown",
      "metadata": {
        "id": "ONXcJSFbG6IV"
      },
      "source": [
        "# Problem 16\n",
        "Validating Postal Codes"
      ]
    },
    {
      "cell_type": "code",
      "metadata": {
        "colab": {
          "base_uri": "https://localhost:8080/"
        },
        "id": "TbFhzcg4Gpie",
        "outputId": "27c8f521-7b76-459d-b846-e9b52e4dcad9"
      },
      "source": [
        "regex_integer_in_range = r'^[1-9][\\d]{5}$'\t# Do not delete 'r'.\n",
        "regex_alternating_repetitive_digit_pair = r'(\\d)(?=\\d\\1)'\t# Do not delete 'r'.\n",
        "\n",
        "\n",
        "import re\n",
        "P = input()\n",
        "\n",
        "print (bool(re.match(regex_integer_in_range, P)) \n",
        "and len(re.findall(regex_alternating_repetitive_digit_pair, P)) < 2)"
      ],
      "execution_count": 5,
      "outputs": [
        {
          "output_type": "stream",
          "text": [
            "110000\n",
            "False\n"
          ],
          "name": "stdout"
        }
      ]
    },
    {
      "cell_type": "markdown",
      "metadata": {
        "id": "C00TsWBfHsNI"
      },
      "source": [
        "# Problem 17\n",
        "Matrix Script"
      ]
    },
    {
      "cell_type": "code",
      "metadata": {
        "colab": {
          "base_uri": "https://localhost:8080/"
        },
        "id": "rXQvQhqKHnQF",
        "outputId": "13c9ab9b-7266-4296-b9e9-18e1b2108fd8"
      },
      "source": [
        "import math\n",
        "import os\n",
        "import random\n",
        "import re\n",
        "import sys\n",
        "\n",
        "\n",
        "\n",
        "\n",
        "first_multiple_input = input().rstrip().split()\n",
        "\n",
        "n = int(first_multiple_input[0])\n",
        "\n",
        "m = int(first_multiple_input[1])\n",
        "\n",
        "matrix = []\n",
        "\n",
        "b = \"\"\n",
        "\n",
        "for _ in range(n):\n",
        "    matrix_item = input()\n",
        "    matrix.append(matrix_item)\n",
        "\n",
        "for z in zip(*matrix):\n",
        "    b += \"\".join(z)\n",
        "\n",
        "print(re.sub(r\"(?<=\\w)([^\\w]+)(?=\\w)\", \" \", b))"
      ],
      "execution_count": 6,
      "outputs": [
        {
          "output_type": "stream",
          "text": [
            "7 3\n",
            "Tsi\n",
            "h%x\n",
            "i #\n",
            "sM \n",
            "$a \n",
            "#t%\n",
            "ir!\n",
            "This is Matrix#  %!\n"
          ],
          "name": "stdout"
        }
      ]
    }
  ]
}