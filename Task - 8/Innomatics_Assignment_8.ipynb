{
  "nbformat": 4,
  "nbformat_minor": 0,
  "metadata": {
    "colab": {
      "name": "Innomatics Assignment 8.ipynb",
      "provenance": []
    },
    "kernelspec": {
      "name": "python3",
      "display_name": "Python 3"
    },
    "language_info": {
      "name": "python"
    }
  },
  "cells": [
    {
      "cell_type": "markdown",
      "metadata": {
        "id": "w5rQ8Qhmtk_C"
      },
      "source": [
        "# Problem 1\n",
        "Binomial Distribution"
      ]
    },
    {
      "cell_type": "code",
      "metadata": {
        "colab": {
          "base_uri": "https://localhost:8080/"
        },
        "id": "JEBUQXDKr-8s",
        "outputId": "8a12ec09-0133-450f-8297-f9b92ac22180"
      },
      "source": [
        "def fact(n):\n",
        "    return 1 if n == 0 else n*fact(n-1)\n",
        "\n",
        "def comb(n, x):\n",
        "    return fact(n) / (fact(x) * fact(n-x))\n",
        "\n",
        "def b(x, n, p):\n",
        "    return comb(n, x) * p**x * (1-p)**(n-x)\n",
        "\n",
        "l, r = list(map(float, input().split(\" \")))\n",
        "odds = l / r\n",
        "print(round(sum([b(i, 6, odds / (1 + odds)) for i in range(3, 7)]), 3))\n"
      ],
      "execution_count": 1,
      "outputs": [
        {
          "output_type": "stream",
          "text": [
            "1.09 1\n",
            "0.696\n"
          ],
          "name": "stdout"
        }
      ]
    },
    {
      "cell_type": "markdown",
      "metadata": {
        "id": "qw7MD92Gt2yB"
      },
      "source": [
        "# Problem 2\n",
        "Binomial Distribution II"
      ]
    },
    {
      "cell_type": "code",
      "metadata": {
        "colab": {
          "base_uri": "https://localhost:8080/"
        },
        "id": "R06-wwuHttDq",
        "outputId": "bb3e51c0-0242-4e2f-814f-15b846cd5ddf"
      },
      "source": [
        "def fact(n):\n",
        "    return 1 if n == 0 else n*fact(n-1)\n",
        "\n",
        "def comb(n, x):\n",
        "    return fact(n) / (fact(x) * fact(n-x))\n",
        "\n",
        "def b(x, n, p):\n",
        "    return comb(n, x) * p**x * (1-p)**(n-x)\n",
        "\n",
        "p, n = list(map(int, input().split(\" \")))\n",
        "print(round(sum([b(i, n, p/100) for i in range(3)]), 3))\n",
        "print(round(sum([b(i, n, p/100) for i in range(2, n+1)]), 3))"
      ],
      "execution_count": 2,
      "outputs": [
        {
          "output_type": "stream",
          "text": [
            "12 10\n",
            "0.891\n",
            "0.342\n"
          ],
          "name": "stdout"
        }
      ]
    },
    {
      "cell_type": "markdown",
      "metadata": {
        "id": "_SepKLnbuoY-"
      },
      "source": [
        "# Problem 3\n",
        "Normal Distribution I"
      ]
    },
    {
      "cell_type": "code",
      "metadata": {
        "colab": {
          "base_uri": "https://localhost:8080/"
        },
        "id": "VhxNjMa1uacg",
        "outputId": "ac20a97c-98a7-4d89-de55-56dbadaebe8b"
      },
      "source": [
        "import math\n",
        "mean, std = 20, 2\n",
        "cdf = lambda x: 0.5 * (1 + math.erf((x - mean) / (std * (2 ** 0.5))))\n",
        "\n",
        "# Less than 19.5\n",
        "print('{:.3f}'.format(cdf(19.5)))\n",
        "# Between 20 and 22\n",
        "print('{:.3f}'.format(cdf(22) - cdf(20)))"
      ],
      "execution_count": 3,
      "outputs": [
        {
          "output_type": "stream",
          "text": [
            "0.401\n",
            "0.341\n"
          ],
          "name": "stdout"
        }
      ]
    },
    {
      "cell_type": "markdown",
      "metadata": {
        "id": "yW_Xgo0I25ml"
      },
      "source": [
        "# Problem 4\n",
        "Normal Distribution II"
      ]
    },
    {
      "cell_type": "code",
      "metadata": {
        "colab": {
          "base_uri": "https://localhost:8080/"
        },
        "id": "VSf8nmVrvLWY",
        "outputId": "2dd12582-8548-421f-b06d-0bb7792b7e0f"
      },
      "source": [
        "import math\n",
        "mean, std = 70, 10\n",
        "cdf = lambda x: 0.5 * (1 + math.erf((x - mean) / (std * (2 ** 0.5))))\n",
        "\n",
        "\n",
        "print(round((1-cdf(80))*100,2))\n",
        "print(round((1-cdf(60))*100,2))\n",
        "print(round((cdf(60))*100,2))"
      ],
      "execution_count": 4,
      "outputs": [
        {
          "output_type": "stream",
          "text": [
            "15.87\n",
            "84.13\n",
            "15.87\n"
          ],
          "name": "stdout"
        }
      ]
    },
    {
      "cell_type": "markdown",
      "metadata": {
        "id": "ZiDyALVw3DAc"
      },
      "source": [
        "# Problem 5\n",
        "The Central Limit Theorem I"
      ]
    },
    {
      "cell_type": "code",
      "metadata": {
        "colab": {
          "base_uri": "https://localhost:8080/"
        },
        "id": "un3fgFpf28t2",
        "outputId": "fe7b5ff1-e152-4c86-b0f8-87426f11d49a"
      },
      "source": [
        "import math\n",
        "\n",
        "x = int(input())\n",
        "n = int(input())\n",
        "mu = int(input())\n",
        "sigma = int(input())\n",
        "\n",
        "mu_sum = n * mu \n",
        "sigma_sum = math.sqrt(n) * sigma\n",
        "\n",
        "def cdf(x, mu, sigma):\n",
        "    Z = (x - mu)/sigma\n",
        "    return 0.5*(1 + math.erf(Z/(math.sqrt(2))))\n",
        "\n",
        "print(round(cdf(x, mu_sum, sigma_sum), 4))"
      ],
      "execution_count": 7,
      "outputs": [
        {
          "output_type": "stream",
          "text": [
            "9800\n",
            "49\n",
            "205\n",
            "15\n",
            "0.0098\n"
          ],
          "name": "stdout"
        }
      ]
    },
    {
      "cell_type": "markdown",
      "metadata": {
        "id": "d7ltqIXH3fqe"
      },
      "source": [
        "# Problem 6\n",
        "The Central Limit Theorem II"
      ]
    },
    {
      "cell_type": "code",
      "metadata": {
        "colab": {
          "base_uri": "https://localhost:8080/"
        },
        "id": "drPh0Lft3Rxb",
        "outputId": "3c7df540-4a04-47bf-a5ad-d9301af42a8d"
      },
      "source": [
        "import math\n",
        "x = 250\n",
        "n = 100\n",
        "sampling_mean = 2.4\n",
        "sampling_stdev = 2.0\n",
        "stdev = sampling_stdev * math.sqrt(n)\n",
        "\n",
        "cdf = 0.5 * (1 + math.erf((x - sampling_mean * n) / (stdev * math.sqrt(2))))\n",
        "\n",
        "print(round(cdf,4))"
      ],
      "execution_count": 8,
      "outputs": [
        {
          "output_type": "stream",
          "text": [
            "0.6915\n"
          ],
          "name": "stdout"
        }
      ]
    },
    {
      "cell_type": "markdown",
      "metadata": {
        "id": "KqCwd7xV4OY0"
      },
      "source": [
        "# Problem 7\n",
        "The Central Limit Theorem III"
      ]
    },
    {
      "cell_type": "code",
      "metadata": {
        "colab": {
          "base_uri": "https://localhost:8080/"
        },
        "id": "RYgMWoFN4NUM",
        "outputId": "5bb9cbe4-652e-4fd1-dcb5-1b8854e51318"
      },
      "source": [
        "from math import sqrt\n",
        "\n",
        "s = int(input())\n",
        "mean = int(input())\n",
        "std = int(input())\n",
        "interval = float(input())\n",
        "z = float(input())\n",
        "print(round(mean - (std / sqrt(s)) * z, 2))\n",
        "print(round(mean + (std / sqrt(s)) * z, 2))"
      ],
      "execution_count": 10,
      "outputs": [
        {
          "output_type": "stream",
          "text": [
            "100\n",
            "500\n",
            "80\n",
            "0.95\n",
            "1.96\n",
            "484.32\n",
            "515.68\n"
          ],
          "name": "stdout"
        }
      ]
    },
    {
      "cell_type": "markdown",
      "metadata": {
        "id": "ZdRtfYcL41k_"
      },
      "source": [
        "# Problem 8\n",
        "Pearson Corellation Coefficient I"
      ]
    },
    {
      "cell_type": "code",
      "metadata": {
        "colab": {
          "base_uri": "https://localhost:8080/"
        },
        "id": "N6ztjSiF4dzZ",
        "outputId": "7a06250b-5022-4e8c-d77d-bdabdc81eb96"
      },
      "source": [
        "N = int(input())\n",
        "X = list(map(float,input().strip().split()))\n",
        "Y = list(map(float,input().strip().split()))\n",
        "\n",
        "mu_x = sum(X) / N\n",
        "mu_y = sum(Y) / N\n",
        "\n",
        "stdv_x = (sum([(i - mu_x)**2 for i in X]) / N)**0.5\n",
        "stdv_y = (sum([(i - mu_y)**2 for i in Y]) / N)**0.5\n",
        "\n",
        "\n",
        "covariance = sum([(X[i] - mu_x) * (Y[i] -mu_y) for i in range(N)])\n",
        "\n",
        "correlation_coefficient = covariance / (N * stdv_x * stdv_y)\n",
        "\n",
        "print(round(correlation_coefficient,3))"
      ],
      "execution_count": 11,
      "outputs": [
        {
          "output_type": "stream",
          "text": [
            "10\n",
            "10 9.8 8 7.8 7.7 7 6 5 4 2 \n",
            "200 44 32 24 22 17 15 12 8 4\n",
            "0.612\n"
          ],
          "name": "stdout"
        }
      ]
    },
    {
      "cell_type": "markdown",
      "metadata": {
        "id": "iA5ygZTc5R5O"
      },
      "source": [
        "# Problem 9\n",
        "Least Square Regression Line"
      ]
    },
    {
      "cell_type": "code",
      "metadata": {
        "colab": {
          "base_uri": "https://localhost:8080/"
        },
        "id": "AwWXze0L5Fhj",
        "outputId": "53c7a3f0-236b-41ec-de21-e10f271cbd8a"
      },
      "source": [
        "n = 5\n",
        "xy = [map(int, input().split()) for _ in range(n)]\n",
        "sx, sy, sx2, sxy = map(sum, zip(*[(x, y, x**2, x * y) for x, y in xy]))\n",
        "b = (n * sxy - sx * sy) / (n * sx2 - sx**2)\n",
        "a = (sy / n) - b * (sx / n)\n",
        "print('{:.3f}'.format(a + b * 80))"
      ],
      "execution_count": 12,
      "outputs": [
        {
          "output_type": "stream",
          "text": [
            "95 85\n",
            "85 95\n",
            "80 70\n",
            "70 65\n",
            "60 70\n",
            "78.288\n"
          ],
          "name": "stdout"
        }
      ]
    },
    {
      "cell_type": "markdown",
      "metadata": {
        "id": "bTxz7e8o5m6Z"
      },
      "source": [
        "# Problem 10\n",
        "Multiple Linear Regression"
      ]
    },
    {
      "cell_type": "code",
      "metadata": {
        "colab": {
          "base_uri": "https://localhost:8080/"
        },
        "id": "NSlaojcx5cSF",
        "outputId": "d92b218d-dc42-4ae0-eb66-35b6492274ec"
      },
      "source": [
        "import numpy as np\n",
        "\n",
        "def solve(y, x, x_pred):\n",
        "  # x transpose\n",
        "  x_dash  = x.T\n",
        "  # product of x_dash and x\n",
        "  X       = x_dash.dot(x)\n",
        "  # inverse of X\n",
        "  X_inv   = np.linalg.inv(X)\n",
        "  # producet of X_inv and x_dash\n",
        "  X_final = X_inv.dot(x_dash)\n",
        "  # product of X_final and y i.e B\n",
        "  B       = X_final.dot(y)\n",
        "  # calculate the y_pred\n",
        "  y_pred  = x_pred.dot(B)\n",
        "  return y_pred\n",
        "\n",
        "def main():\n",
        "  m, n = map(int, input().strip().split())\n",
        "  y = []; x = []; x_pred = []\n",
        "  for _ in range(n):\n",
        "    *features, y_val = map(float, input().strip().split())\n",
        "    x.append([1] + features)\n",
        "    y.append(y_val)\n",
        "\n",
        "  for _ in range(int(input())):\n",
        "    features = list(map(float, input().strip().split()))\n",
        "    x_pred.append([1] + features)\n",
        "\n",
        "  y = np.array(y)\n",
        "  x = np.array(x)\n",
        "  x_pred = np.array(x_pred)\n",
        "  answer = solve(y, x, x_pred)\n",
        "  \n",
        "  for num in answer:\n",
        "    print(round(num, 2))\n",
        "\n",
        "if __name__ == \"__main__\":\n",
        "  main()"
      ],
      "execution_count": 14,
      "outputs": [
        {
          "output_type": "stream",
          "text": [
            "2 7\n",
            "0.18 0.89 109.85\n",
            "1.0 0.26 155.72\n",
            "0.92 0.11 137.66\n",
            "0.07 0.37 76.17\n",
            "0.85 0.16 139.75\n",
            "0.99 0.41 162.6\n",
            "0.87 0.47 151.77\n",
            "4\n",
            "0.49 0.18\n",
            "0.57 0.83\n",
            "0.56 0.64\n",
            "0.76 0.18\n",
            "105.21\n",
            "142.67\n",
            "132.94\n",
            "129.7\n"
          ],
          "name": "stdout"
        }
      ]
    }
  ]
}